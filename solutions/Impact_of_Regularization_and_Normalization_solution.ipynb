{
  "cells": [
    {
      "cell_type": "markdown",
      "metadata": {
        "id": "view-in-github",
        "colab_type": "text"
      },
      "source": [
        "<a href=\"https://colab.research.google.com/github/ifriedma/cosc470s24/blob/main/solutions/Impact_of_Regularization_and_Normalization_solution.ipynb\" target=\"_parent\"><img src=\"https://colab.research.google.com/assets/colab-badge.svg\" alt=\"Open In Colab\"/></a>"
      ]
    },
    {
      "cell_type": "code",
      "execution_count": 16,
      "metadata": {
        "colab": {
          "base_uri": "https://localhost:8080/"
        },
        "id": "d13ce909",
        "outputId": "a0a5984e-c972-4369-959c-2f91fab1a7b4"
      },
      "outputs": [
        {
          "output_type": "stream",
          "name": "stdout",
          "text": [
            "[Errno 2] No such file or directory: 'nn'\n",
            "/content/nn\n"
          ]
        }
      ],
      "source": [
        "#!git clone https://github.com/kartoone/DeepLearningPython nn\n",
        "%cd nn"
      ]
    },
    {
      "cell_type": "code",
      "execution_count": 56,
      "metadata": {
        "id": "Zwx70nCLRbG7",
        "colab": {
          "base_uri": "https://localhost:8080/"
        },
        "outputId": "83622802-8c80-446a-983c-144b0e2f13bc"
      },
      "outputs": [
        {
          "output_type": "stream",
          "name": "stdout",
          "text": [
            "Epoch 0 training complete\n",
            "Appending weights for epoch 0\n",
            "Accuracy on evaluation data: 3 / 3\n",
            "Epoch 1 training complete\n",
            "Appending weights for epoch 1\n",
            "Accuracy on evaluation data: 3 / 3\n",
            "Epoch 2 training complete\n",
            "Appending weights for epoch 2\n",
            "Accuracy on evaluation data: 3 / 3\n",
            "Epoch 3 training complete\n",
            "Appending weights for epoch 3\n",
            "Accuracy on evaluation data: 3 / 3\n",
            "Epoch 4 training complete\n",
            "Appending weights for epoch 4\n",
            "Accuracy on evaluation data: 3 / 3\n",
            "Epoch 5 training complete\n",
            "Appending weights for epoch 5\n",
            "Accuracy on evaluation data: 3 / 3\n",
            "Epoch 6 training complete\n",
            "Appending weights for epoch 6\n",
            "Accuracy on evaluation data: 3 / 3\n",
            "Epoch 7 training complete\n",
            "Appending weights for epoch 7\n",
            "Accuracy on evaluation data: 3 / 3\n",
            "Epoch 8 training complete\n",
            "Appending weights for epoch 8\n",
            "Accuracy on evaluation data: 3 / 3\n",
            "Epoch 9 training complete\n",
            "Appending weights for epoch 9\n",
            "Accuracy on evaluation data: 3 / 3\n",
            "Epoch 10 training complete\n",
            "Appending weights for epoch 10\n",
            "Accuracy on evaluation data: 3 / 3\n",
            "Epoch 11 training complete\n",
            "Appending weights for epoch 11\n",
            "Accuracy on evaluation data: 3 / 3\n",
            "Epoch 12 training complete\n",
            "Appending weights for epoch 12\n",
            "Accuracy on evaluation data: 3 / 3\n",
            "Epoch 13 training complete\n",
            "Appending weights for epoch 13\n",
            "Accuracy on evaluation data: 3 / 3\n",
            "Epoch 14 training complete\n",
            "Appending weights for epoch 14\n",
            "Accuracy on evaluation data: 3 / 3\n",
            "Epoch 15 training complete\n",
            "Appending weights for epoch 15\n",
            "Accuracy on evaluation data: 3 / 3\n",
            "Epoch 16 training complete\n",
            "Appending weights for epoch 16\n",
            "Accuracy on evaluation data: 3 / 3\n",
            "Epoch 17 training complete\n",
            "Appending weights for epoch 17\n",
            "Accuracy on evaluation data: 3 / 3\n",
            "Epoch 18 training complete\n",
            "Appending weights for epoch 18\n",
            "Accuracy on evaluation data: 3 / 3\n",
            "Epoch 19 training complete\n",
            "Appending weights for epoch 19\n",
            "Accuracy on evaluation data: 3 / 3\n",
            "Epoch 20 training complete\n",
            "Appending weights for epoch 20\n",
            "Accuracy on evaluation data: 3 / 3\n",
            "Epoch 21 training complete\n",
            "Appending weights for epoch 21\n",
            "Accuracy on evaluation data: 3 / 3\n",
            "Epoch 22 training complete\n",
            "Appending weights for epoch 22\n",
            "Accuracy on evaluation data: 3 / 3\n",
            "Epoch 23 training complete\n",
            "Appending weights for epoch 23\n",
            "Accuracy on evaluation data: 3 / 3\n",
            "Epoch 24 training complete\n",
            "Appending weights for epoch 24\n",
            "Accuracy on evaluation data: 3 / 3\n",
            "Epoch 25 training complete\n",
            "Appending weights for epoch 25\n",
            "Accuracy on evaluation data: 3 / 3\n",
            "Epoch 26 training complete\n",
            "Appending weights for epoch 26\n",
            "Accuracy on evaluation data: 3 / 3\n",
            "Epoch 27 training complete\n",
            "Appending weights for epoch 27\n",
            "Accuracy on evaluation data: 3 / 3\n",
            "Epoch 28 training complete\n",
            "Appending weights for epoch 28\n",
            "Accuracy on evaluation data: 3 / 3\n",
            "Epoch 29 training complete\n",
            "Appending weights for epoch 29\n",
            "Accuracy on evaluation data: 3 / 3\n"
          ]
        }
      ],
      "source": [
        "from network2 import Network, CrossEntropyCost\n",
        "import mnist_loader\n",
        "import numpy as np\n",
        "training_data, validation_data, test_data = mnist_loader.load_data_wrapper()\n",
        "training_data = list(training_data)\n",
        "test_data = list(test_data)[0:3]\n",
        "net = Network([784, 30, 10], cost=CrossEntropyCost)\n",
        "net.large_weight_initializer()\n",
        "weights = net.SGD(training_data, 30, 10, 0.5, evaluation_data=test_data, monitor_evaluation_accuracy=True)\n"
      ]
    },
    {
      "cell_type": "code",
      "execution_count": 18,
      "metadata": {
        "colab": {
          "base_uri": "https://localhost:8080/",
          "height": 602
        },
        "id": "TEL5SS9_sor7",
        "outputId": "75d76889-4d4a-46cc-8ba0-21fd53692fde"
      },
      "outputs": [
        {
          "output_type": "display_data",
          "data": {
            "text/plain": [
              "<Figure size 1000x500 with 2 Axes>"
            ],
            "image/png": "[encoded data removed]"
          },
          "metadata": {}
        },
        {
          "output_type": "stream",
          "name": "stdout",
          "text": [
            "[[7.28943882e-01]\n",
            " [7.33647540e-12]\n",
            " [1.57987772e-07]\n",
            " [1.84088281e-03]\n",
            " [1.67239559e-04]\n",
            " [7.20606949e-05]\n",
            " [8.50638384e-06]\n",
            " [1.56858651e-01]\n",
            " [8.89727048e-07]\n",
            " [1.90507281e-02]]\n",
            "0\n"
          ]
        }
      ],
      "source": [
        "import matplotlib.pyplot as plt\n",
        "import numpy as np\n",
        "from PIL import Image\n",
        "\n",
        "image_path = 'good0.png'\n",
        "image = Image.open(image_path).convert('L')\n",
        "\n",
        "# convert image to numpy array\n",
        "image_array = np.array(image)\n",
        "\n",
        "fig, axs = plt.subplots(1, 2, figsize=(10, 5))\n",
        "\n",
        "# display first image\n",
        "axs[0].imshow(image_array, cmap = 'gray')\n",
        "axs[0].set_title(image_path)\n",
        "axs[0].axis('off')\n",
        "\n",
        "# display second image\n",
        "axs[1].imshow(np.reshape(training_data[0][0], (28,28)))\n",
        "axs[1].set_title('training_data[0][0]')\n",
        "axs[1].axis('off')\n",
        "\n",
        "plt.show()\n",
        "image_array = image_array/255.0\n",
        "a0 = net.feedforward(np.reshape(image_array,(784,1)))\n",
        "print(a0)\n",
        "print(np.argmax(a0))"
      ]
    },
    {
      "cell_type": "code",
      "execution_count": 19,
      "metadata": {
        "colab": {
          "base_uri": "https://localhost:8080/",
          "height": 602
        },
        "id": "ncildOSrbgB7",
        "outputId": "62e73e8f-24f3-4769-801c-18b27419c4f1"
      },
      "outputs": [
        {
          "output_type": "display_data",
          "data": {
            "text/plain": [
              "<Figure size 1000x500 with 2 Axes>"
            ],
            "image/png": "[encoded data removed]"
          },
          "metadata": {}
        },
        {
          "output_type": "stream",
          "name": "stdout",
          "text": [
            "[[8.52743372e-12]\n",
            " [5.60176027e-03]\n",
            " [8.80868730e-01]\n",
            " [6.70854461e-05]\n",
            " [2.21118437e-08]\n",
            " [7.92129004e-07]\n",
            " [1.57824200e-03]\n",
            " [4.11912175e-05]\n",
            " [4.46652605e-07]\n",
            " [1.01849639e-02]]\n",
            "2\n"
          ]
        }
      ],
      "source": [
        "import matplotlib.pyplot as plt\n",
        "import numpy as np\n",
        "from PIL import Image\n",
        "\n",
        "image_path = 'good1.png'\n",
        "image = Image.open(image_path).convert('L')\n",
        "\n",
        "# convert image to numpy array\n",
        "image_array = np.array(image)\n",
        "\n",
        "fig, axs = plt.subplots(1, 2, figsize=(10, 5))\n",
        "\n",
        "# display first image\n",
        "axs[0].imshow(image_array, cmap = 'gray')\n",
        "axs[0].set_title(image_path)\n",
        "axs[0].axis('off')\n",
        "\n",
        "# display second image\n",
        "axs[1].imshow(np.reshape(training_data[0][0], (28,28)))\n",
        "axs[1].set_title('training_data[0][0]')\n",
        "axs[1].axis('off')\n",
        "\n",
        "plt.show()\n",
        "image_array = image_array/255.0\n",
        "a0 = net.feedforward(np.reshape(image_array,(784,1)))\n",
        "print(a0)\n",
        "print(np.argmax(a0))"
      ]
    },
    {
      "cell_type": "code",
      "execution_count": 20,
      "metadata": {
        "id": "7rdS_pJUnV4R",
        "colab": {
          "base_uri": "https://localhost:8080/",
          "height": 602
        },
        "outputId": "d47fbe97-5100-4664-914e-0b0967140025"
      },
      "outputs": [
        {
          "output_type": "display_data",
          "data": {
            "text/plain": [
              "<Figure size 1000x500 with 2 Axes>"
            ],
            "image/png": "[encoded data removed]"
          },
          "metadata": {}
        },
        {
          "output_type": "stream",
          "name": "stdout",
          "text": [
            "[[7.26349043e-07]\n",
            " [5.47398351e-04]\n",
            " [9.99959731e-01]\n",
            " [5.83368958e-05]\n",
            " [4.77268668e-08]\n",
            " [5.79705841e-05]\n",
            " [3.07238855e-05]\n",
            " [1.75931368e-08]\n",
            " [7.11152664e-05]\n",
            " [8.49913749e-08]]\n",
            "2\n"
          ]
        }
      ],
      "source": [
        "import matplotlib.pyplot as plt\n",
        "import numpy as np\n",
        "from PIL import Image\n",
        "\n",
        "image_path = 'good2.png'\n",
        "image = Image.open(image_path).convert('L')\n",
        "\n",
        "# convert image to numpy array\n",
        "image_array = np.array(image)\n",
        "\n",
        "fig, axs = plt.subplots(1, 2, figsize=(10, 5))\n",
        "\n",
        "# display first image\n",
        "axs[0].imshow(image_array, cmap = 'gray')\n",
        "axs[0].set_title(image_path)\n",
        "axs[0].axis('off')\n",
        "\n",
        "# display second image\n",
        "axs[1].imshow(np.reshape(training_data[0][0], (28,28)))\n",
        "axs[1].set_title('training_data[0][0]')\n",
        "axs[1].axis('off')\n",
        "\n",
        "plt.show()\n",
        "image_array = image_array/255.0\n",
        "a0 = net.feedforward(np.reshape(image_array,(784,1)))\n",
        "print(a0)\n",
        "print(np.argmax(a0))"
      ]
    },
    {
      "cell_type": "code",
      "execution_count": 21,
      "metadata": {
        "id": "IenANmk3nWgY",
        "colab": {
          "base_uri": "https://localhost:8080/",
          "height": 602
        },
        "outputId": "e23aec5e-8b7f-465d-d018-ae7b3f24e6e0"
      },
      "outputs": [
        {
          "output_type": "display_data",
          "data": {
            "text/plain": [
              "<Figure size 1000x500 with 2 Axes>"
            ],
            "image/png": "[encoded data removed]"
          },
          "metadata": {}
        },
        {
          "output_type": "stream",
          "name": "stdout",
          "text": [
            "[[9.86953148e-10]\n",
            " [6.25670994e-02]\n",
            " [2.16601028e-06]\n",
            " [9.94583775e-01]\n",
            " [6.48597360e-09]\n",
            " [4.18915673e-04]\n",
            " [9.54767235e-08]\n",
            " [2.23372061e-06]\n",
            " [2.32944176e-07]\n",
            " [5.43623468e-09]]\n",
            "3\n"
          ]
        }
      ],
      "source": [
        "import matplotlib.pyplot as plt\n",
        "import numpy as np\n",
        "from PIL import Image\n",
        "\n",
        "image_path = 'good3.png'\n",
        "image = Image.open(image_path).convert('L')\n",
        "\n",
        "# convert image to numpy array\n",
        "image_array = np.array(image)\n",
        "\n",
        "fig, axs = plt.subplots(1, 2, figsize=(10, 5))\n",
        "\n",
        "# display first image\n",
        "axs[0].imshow(image_array, cmap = 'gray')\n",
        "axs[0].set_title(image_path)\n",
        "axs[0].axis('off')\n",
        "\n",
        "# display second image\n",
        "axs[1].imshow(np.reshape(training_data[0][0], (28,28)))\n",
        "axs[1].set_title('training_data[0][0]')\n",
        "axs[1].axis('off')\n",
        "\n",
        "plt.show()\n",
        "image_array = image_array/255.0\n",
        "a0 = net.feedforward(np.reshape(image_array,(784,1)))\n",
        "print(a0)\n",
        "print(np.argmax(a0))"
      ]
    },
    {
      "cell_type": "code",
      "execution_count": 22,
      "metadata": {
        "id": "xdU9is4jnYyg",
        "colab": {
          "base_uri": "https://localhost:8080/",
          "height": 602
        },
        "outputId": "1f6f1012-21b1-4157-8e91-e3ad2f880554"
      },
      "outputs": [
        {
          "output_type": "display_data",
          "data": {
            "text/plain": [
              "<Figure size 1000x500 with 2 Axes>"
            ],
            "image/png": "[encoded data removed]"
          },
          "metadata": {}
        },
        {
          "output_type": "stream",
          "name": "stdout",
          "text": [
            "[[3.16948329e-06]\n",
            " [1.08609301e-06]\n",
            " [4.03221207e-02]\n",
            " [7.89377946e-05]\n",
            " [9.99835835e-01]\n",
            " [1.84246453e-08]\n",
            " [8.30715832e-09]\n",
            " [7.72917671e-05]\n",
            " [3.52365469e-06]\n",
            " [5.56633592e-06]]\n",
            "4\n"
          ]
        }
      ],
      "source": [
        "import matplotlib.pyplot as plt\n",
        "import numpy as np\n",
        "from PIL import Image\n",
        "\n",
        "image_path = 'good4.png'\n",
        "image = Image.open(image_path).convert('L')\n",
        "\n",
        "# convert image to numpy array\n",
        "image_array = np.array(image)\n",
        "\n",
        "fig, axs = plt.subplots(1, 2, figsize=(10, 5))\n",
        "\n",
        "# display first image\n",
        "axs[0].imshow(image_array, cmap = 'gray')\n",
        "axs[0].set_title(image_path)\n",
        "axs[0].axis('off')\n",
        "\n",
        "# display second image\n",
        "axs[1].imshow(np.reshape(training_data[0][0], (28,28)))\n",
        "axs[1].set_title('training_data[0][0]')\n",
        "axs[1].axis('off')\n",
        "\n",
        "plt.show()\n",
        "image_array = image_array/255.0\n",
        "a0 = net.feedforward(np.reshape(image_array,(784,1)))\n",
        "print(a0)\n",
        "print(np.argmax(a0))"
      ]
    },
    {
      "cell_type": "code",
      "execution_count": 23,
      "metadata": {
        "id": "FFBE9vIanZhg",
        "colab": {
          "base_uri": "https://localhost:8080/",
          "height": 602
        },
        "outputId": "7dd7e852-3be9-49e7-e295-6f9c824f3a6f"
      },
      "outputs": [
        {
          "output_type": "display_data",
          "data": {
            "text/plain": [
              "<Figure size 1000x500 with 2 Axes>"
            ],
            "image/png": "[encoded data removed]"
          },
          "metadata": {}
        },
        {
          "output_type": "stream",
          "name": "stdout",
          "text": [
            "[[6.00096366e-07]\n",
            " [9.97345235e-08]\n",
            " [1.05981256e-08]\n",
            " [2.04208491e-03]\n",
            " [2.23295809e-05]\n",
            " [9.98456986e-01]\n",
            " [5.30202496e-05]\n",
            " [1.34264102e-07]\n",
            " [2.95722651e-07]\n",
            " [2.54082394e-09]]\n",
            "5\n"
          ]
        }
      ],
      "source": [
        "import matplotlib.pyplot as plt\n",
        "import numpy as np\n",
        "from PIL import Image\n",
        "\n",
        "image_path = 'good5.png'\n",
        "image = Image.open(image_path).convert('L')\n",
        "\n",
        "# convert image to numpy array\n",
        "image_array = np.array(image)\n",
        "\n",
        "fig, axs = plt.subplots(1, 2, figsize=(10, 5))\n",
        "\n",
        "# display first image\n",
        "axs[0].imshow(image_array, cmap = 'gray')\n",
        "axs[0].set_title(image_path)\n",
        "axs[0].axis('off')\n",
        "\n",
        "# display second image\n",
        "axs[1].imshow(np.reshape(training_data[0][0], (28,28)))\n",
        "axs[1].set_title('training_data[0][0]')\n",
        "axs[1].axis('off')\n",
        "\n",
        "plt.show()\n",
        "image_array = image_array/255.0\n",
        "a0 = net.feedforward(np.reshape(image_array,(784,1)))\n",
        "print(a0)\n",
        "print(np.argmax(a0))"
      ]
    },
    {
      "cell_type": "code",
      "execution_count": 24,
      "metadata": {
        "id": "6hqVf4QwnaCf",
        "colab": {
          "base_uri": "https://localhost:8080/",
          "height": 602
        },
        "outputId": "a528100e-ff28-437b-ebe4-e3f9c63c0042"
      },
      "outputs": [
        {
          "output_type": "display_data",
          "data": {
            "text/plain": [
              "<Figure size 1000x500 with 2 Axes>"
            ],
            "image/png": "[encoded data removed]"
          },
          "metadata": {}
        },
        {
          "output_type": "stream",
          "name": "stdout",
          "text": [
            "[[1.86826726e-02]\n",
            " [1.10310231e-08]\n",
            " [6.53686463e-02]\n",
            " [4.04261855e-05]\n",
            " [2.18957054e-08]\n",
            " [7.00299055e-04]\n",
            " [9.30996904e-01]\n",
            " [1.18531572e-05]\n",
            " [1.88316329e-02]\n",
            " [1.47269255e-07]]\n",
            "6\n"
          ]
        }
      ],
      "source": [
        "import matplotlib.pyplot as plt\n",
        "import numpy as np\n",
        "from PIL import Image\n",
        "\n",
        "image_path = 'good6.png'\n",
        "image = Image.open(image_path).convert('L')\n",
        "\n",
        "# convert image to numpy array\n",
        "image_array = np.array(image)\n",
        "\n",
        "fig, axs = plt.subplots(1, 2, figsize=(10, 5))\n",
        "\n",
        "# display first image\n",
        "axs[0].imshow(image_array, cmap = 'gray')\n",
        "axs[0].set_title(image_path)\n",
        "axs[0].axis('off')\n",
        "\n",
        "# display second image\n",
        "axs[1].imshow(np.reshape(training_data[0][0], (28,28)))\n",
        "axs[1].set_title('training_data[0][0]')\n",
        "axs[1].axis('off')\n",
        "\n",
        "plt.show()\n",
        "image_array = image_array/255.0\n",
        "a0 = net.feedforward(np.reshape(image_array,(784,1)))\n",
        "print(a0)\n",
        "print(np.argmax(a0))"
      ]
    },
    {
      "cell_type": "code",
      "execution_count": 25,
      "metadata": {
        "id": "0YvEWb55nafg",
        "colab": {
          "base_uri": "https://localhost:8080/",
          "height": 602
        },
        "outputId": "91b622a2-419e-47bb-dcc0-64ae2a76260e"
      },
      "outputs": [
        {
          "output_type": "display_data",
          "data": {
            "text/plain": [
              "<Figure size 1000x500 with 2 Axes>"
            ],
            "image/png": "[encoded data removed]"
          },
          "metadata": {}
        },
        {
          "output_type": "stream",
          "name": "stdout",
          "text": [
            "[[1.51984742e-09]\n",
            " [1.22961716e-01]\n",
            " [2.41415322e-02]\n",
            " [1.50398026e-03]\n",
            " [4.55378222e-09]\n",
            " [8.60883502e-09]\n",
            " [1.29320869e-08]\n",
            " [9.13563352e-01]\n",
            " [4.38175819e-06]\n",
            " [5.90604960e-09]]\n",
            "7\n"
          ]
        }
      ],
      "source": [
        "import matplotlib.pyplot as plt\n",
        "import numpy as np\n",
        "from PIL import Image\n",
        "\n",
        "image_path = 'good7.png'\n",
        "image = Image.open(image_path).convert('L')\n",
        "\n",
        "# convert image to numpy array\n",
        "image_array = np.array(image)\n",
        "\n",
        "fig, axs = plt.subplots(1, 2, figsize=(10, 5))\n",
        "\n",
        "# display first image\n",
        "axs[0].imshow(image_array, cmap = 'gray')\n",
        "axs[0].set_title(image_path)\n",
        "axs[0].axis('off')\n",
        "\n",
        "# display second image\n",
        "axs[1].imshow(np.reshape(training_data[0][0], (28,28)))\n",
        "axs[1].set_title('training_data[0][0]')\n",
        "axs[1].axis('off')\n",
        "\n",
        "plt.show()\n",
        "image_array = image_array/255.0\n",
        "a0 = net.feedforward(np.reshape(image_array,(784,1)))\n",
        "print(a0)\n",
        "print(np.argmax(a0))"
      ]
    },
    {
      "cell_type": "code",
      "execution_count": 26,
      "metadata": {
        "id": "eh6NvtUOna4e",
        "colab": {
          "base_uri": "https://localhost:8080/",
          "height": 602
        },
        "outputId": "e9383abf-69e4-4319-e7d6-e4e667644763"
      },
      "outputs": [
        {
          "output_type": "display_data",
          "data": {
            "text/plain": [
              "<Figure size 1000x500 with 2 Axes>"
            ],
            "image/png": "[encoded data removed]"
          },
          "metadata": {}
        },
        {
          "output_type": "stream",
          "name": "stdout",
          "text": [
            "[[5.43605491e-06]\n",
            " [2.79932032e-06]\n",
            " [1.55420543e-02]\n",
            " [1.09775192e-06]\n",
            " [5.53305461e-02]\n",
            " [2.35321077e-07]\n",
            " [5.23444953e-08]\n",
            " [1.48600408e-04]\n",
            " [2.19408649e-02]\n",
            " [1.99424715e-01]]\n",
            "9\n"
          ]
        }
      ],
      "source": [
        "import matplotlib.pyplot as plt\n",
        "import numpy as np\n",
        "from PIL import Image\n",
        "\n",
        "image_path = 'good8.png'\n",
        "image = Image.open(image_path).convert('L')\n",
        "\n",
        "# convert image to numpy array\n",
        "image_array = np.array(image)\n",
        "\n",
        "fig, axs = plt.subplots(1, 2, figsize=(10, 5))\n",
        "\n",
        "# display first image\n",
        "axs[0].imshow(image_array, cmap = 'gray')\n",
        "axs[0].set_title(image_path)\n",
        "axs[0].axis('off')\n",
        "\n",
        "# display second image\n",
        "axs[1].imshow(np.reshape(training_data[0][0], (28,28)))\n",
        "axs[1].set_title('training_data[0][0]')\n",
        "axs[1].axis('off')\n",
        "\n",
        "plt.show()\n",
        "image_array = image_array/255.0\n",
        "a0 = net.feedforward(np.reshape(image_array,(784,1)))\n",
        "print(a0)\n",
        "print(np.argmax(a0))"
      ]
    },
    {
      "cell_type": "code",
      "execution_count": 27,
      "metadata": {
        "id": "fLg9ruf0nbT7",
        "colab": {
          "base_uri": "https://localhost:8080/",
          "height": 602
        },
        "outputId": "40f503eb-a9dc-41d7-9b76-fa4089487c35"
      },
      "outputs": [
        {
          "output_type": "display_data",
          "data": {
            "text/plain": [
              "<Figure size 1000x500 with 2 Axes>"
            ],
            "image/png": "[encoded data removed]"
          },
          "metadata": {}
        },
        {
          "output_type": "stream",
          "name": "stdout",
          "text": [
            "[[2.83522929e-01]\n",
            " [2.49072014e-06]\n",
            " [7.52584094e-01]\n",
            " [2.23454468e-05]\n",
            " [8.85715198e-09]\n",
            " [5.46529653e-04]\n",
            " [2.99058869e-10]\n",
            " [4.92845528e-03]\n",
            " [9.65682196e-01]\n",
            " [7.31744294e-05]]\n",
            "8\n"
          ]
        }
      ],
      "source": [
        "import matplotlib.pyplot as plt\n",
        "import numpy as np\n",
        "from PIL import Image\n",
        "\n",
        "image_path = 'good9.png'\n",
        "image = Image.open(image_path).convert('L')\n",
        "\n",
        "# convert image to numpy array\n",
        "image_array = np.array(image)\n",
        "\n",
        "fig, axs = plt.subplots(1, 2, figsize=(10, 5))\n",
        "\n",
        "# display first image\n",
        "axs[0].imshow(image_array, cmap = 'gray')\n",
        "axs[0].set_title(image_path)\n",
        "axs[0].axis('off')\n",
        "\n",
        "# display second image\n",
        "axs[1].imshow(np.reshape(training_data[0][0], (28,28)))\n",
        "axs[1].set_title('training_data[0][0]')\n",
        "axs[1].axis('off')\n",
        "\n",
        "plt.show()\n",
        "image_array = image_array/255.0\n",
        "a0 = net.feedforward(np.reshape(image_array,(784,1)))\n",
        "print(a0)\n",
        "print(np.argmax(a0))"
      ]
    },
    {
      "cell_type": "code",
      "execution_count": 28,
      "metadata": {
        "id": "2_a-gdVVstm9",
        "colab": {
          "base_uri": "https://localhost:8080/",
          "height": 602
        },
        "outputId": "109a2761-0c60-4bed-8675-83e3129e30d8"
      },
      "outputs": [
        {
          "output_type": "display_data",
          "data": {
            "text/plain": [
              "<Figure size 1000x500 with 2 Axes>"
            ],
            "image/png": "[encoded data removed]"
          },
          "metadata": {}
        },
        {
          "output_type": "stream",
          "name": "stdout",
          "text": [
            "[[6.15284273e-12]\n",
            " [9.83230014e-03]\n",
            " [9.21749965e-08]\n",
            " [2.68369150e-04]\n",
            " [3.45695001e-04]\n",
            " [1.37221208e-02]\n",
            " [1.74351117e-10]\n",
            " [1.26378986e-02]\n",
            " [6.47701251e-08]\n",
            " [4.10896622e-01]]\n",
            "9\n"
          ]
        }
      ],
      "source": [
        "import matplotlib.pyplot as plt\n",
        "import numpy as np\n",
        "from PIL import Image\n",
        "\n",
        "image_path = 'small0.png'\n",
        "image = Image.open(image_path).convert('L')\n",
        "\n",
        "# convert image to numpy array\n",
        "image_array = np.array(image)\n",
        "\n",
        "fig, axs = plt.subplots(1, 2, figsize=(10, 5))\n",
        "\n",
        "# display first image\n",
        "axs[0].imshow(image_array, cmap = 'gray')\n",
        "axs[0].set_title(image_path)\n",
        "axs[0].axis('off')\n",
        "\n",
        "# display second image\n",
        "axs[1].imshow(np.reshape(training_data[0][0], (28,28)))\n",
        "axs[1].set_title('training_data[0][0]')\n",
        "axs[1].axis('off')\n",
        "\n",
        "plt.show()\n",
        "image_array = image_array/255.0\n",
        "a0 = net.feedforward(np.reshape(image_array,(784,1)))\n",
        "print(a0)\n",
        "print(np.argmax(a0))"
      ]
    },
    {
      "cell_type": "code",
      "execution_count": 29,
      "metadata": {
        "id": "3cSj1oQGnb0c",
        "colab": {
          "base_uri": "https://localhost:8080/",
          "height": 602
        },
        "outputId": "ffabf894-167a-4caf-bb23-64d00fe7e796"
      },
      "outputs": [
        {
          "output_type": "display_data",
          "data": {
            "text/plain": [
              "<Figure size 1000x500 with 2 Axes>"
            ],
            "image/png": "[encoded data removed]"
          },
          "metadata": {}
        },
        {
          "output_type": "stream",
          "name": "stdout",
          "text": [
            "[[8.77436650e-06]\n",
            " [9.62108580e-08]\n",
            " [7.57548780e-03]\n",
            " [3.34044185e-09]\n",
            " [2.73297803e-01]\n",
            " [2.21931956e-01]\n",
            " [2.41259342e-03]\n",
            " [3.34950170e-05]\n",
            " [1.18623340e-07]\n",
            " [3.44129881e-05]]\n",
            "4\n"
          ]
        }
      ],
      "source": [
        "import matplotlib.pyplot as plt\n",
        "import numpy as np\n",
        "from PIL import Image\n",
        "\n",
        "image_path = 'small1.png'\n",
        "image = Image.open(image_path).convert('L')\n",
        "\n",
        "# convert image to numpy array\n",
        "image_array = np.array(image)\n",
        "\n",
        "fig, axs = plt.subplots(1, 2, figsize=(10, 5))\n",
        "\n",
        "# display first image\n",
        "axs[0].imshow(image_array, cmap = 'gray')\n",
        "axs[0].set_title(image_path)\n",
        "axs[0].axis('off')\n",
        "\n",
        "# display second image\n",
        "axs[1].imshow(np.reshape(training_data[0][0], (28,28)))\n",
        "axs[1].set_title('training_data[0][0]')\n",
        "axs[1].axis('off')\n",
        "\n",
        "plt.show()\n",
        "image_array = image_array/255.0\n",
        "a0 = net.feedforward(np.reshape(image_array,(784,1)))\n",
        "print(a0)\n",
        "print(np.argmax(a0))"
      ]
    },
    {
      "cell_type": "code",
      "execution_count": 30,
      "metadata": {
        "id": "bXWokUvVncOa",
        "colab": {
          "base_uri": "https://localhost:8080/",
          "height": 602
        },
        "outputId": "4af33014-53a8-4ad0-a385-cef3a0c32431"
      },
      "outputs": [
        {
          "output_type": "display_data",
          "data": {
            "text/plain": [
              "<Figure size 1000x500 with 2 Axes>"
            ],
            "image/png": "[encoded data removed]"
          },
          "metadata": {}
        },
        {
          "output_type": "stream",
          "name": "stdout",
          "text": [
            "[[4.70978877e-07]\n",
            " [2.12848365e-01]\n",
            " [1.44367178e-12]\n",
            " [3.42560127e-01]\n",
            " [7.05346293e-05]\n",
            " [5.32580454e-06]\n",
            " [9.80261267e-14]\n",
            " [8.28109205e-01]\n",
            " [1.51443474e-08]\n",
            " [6.85716820e-02]]\n",
            "7\n"
          ]
        }
      ],
      "source": [
        "import matplotlib.pyplot as plt\n",
        "import numpy as np\n",
        "from PIL import Image\n",
        "\n",
        "image_path = 'small2.png'\n",
        "image = Image.open(image_path).convert('L')\n",
        "\n",
        "# convert image to numpy array\n",
        "image_array = np.array(image)\n",
        "\n",
        "fig, axs = plt.subplots(1, 2, figsize=(10, 5))\n",
        "\n",
        "# display first image\n",
        "axs[0].imshow(image_array, cmap = 'gray')\n",
        "axs[0].set_title(image_path)\n",
        "axs[0].axis('off')\n",
        "\n",
        "# display second image\n",
        "axs[1].imshow(np.reshape(training_data[0][0], (28,28)))\n",
        "axs[1].set_title('training_data[0][0]')\n",
        "axs[1].axis('off')\n",
        "\n",
        "plt.show()\n",
        "image_array = image_array/255.0\n",
        "a0 = net.feedforward(np.reshape(image_array,(784,1)))\n",
        "print(a0)\n",
        "print(np.argmax(a0))"
      ]
    },
    {
      "cell_type": "code",
      "execution_count": 31,
      "metadata": {
        "id": "uPa2yJTEncnk",
        "colab": {
          "base_uri": "https://localhost:8080/",
          "height": 602
        },
        "outputId": "6f5191b9-d306-4ef4-d6e5-d1b2497e758f"
      },
      "outputs": [
        {
          "output_type": "display_data",
          "data": {
            "text/plain": [
              "<Figure size 1000x500 with 2 Axes>"
            ],
            "image/png": "[encoded data removed]"
          },
          "metadata": {}
        },
        {
          "output_type": "stream",
          "name": "stdout",
          "text": [
            "[[1.01553895e-08]\n",
            " [6.86797990e-01]\n",
            " [3.50739769e-08]\n",
            " [2.17355135e-04]\n",
            " [3.56507453e-06]\n",
            " [6.28050537e-03]\n",
            " [1.89932575e-13]\n",
            " [5.32007254e-04]\n",
            " [7.99150842e-07]\n",
            " [1.71278197e-02]]\n",
            "1\n"
          ]
        }
      ],
      "source": [
        "import matplotlib.pyplot as plt\n",
        "import numpy as np\n",
        "from PIL import Image\n",
        "\n",
        "image_path = 'small3.png'\n",
        "image = Image.open(image_path).convert('L')\n",
        "\n",
        "# convert image to numpy array\n",
        "image_array = np.array(image)\n",
        "\n",
        "fig, axs = plt.subplots(1, 2, figsize=(10, 5))\n",
        "\n",
        "# display first image\n",
        "axs[0].imshow(image_array, cmap = 'gray')\n",
        "axs[0].set_title(image_path)\n",
        "axs[0].axis('off')\n",
        "\n",
        "# display second image\n",
        "axs[1].imshow(np.reshape(training_data[0][0], (28,28)))\n",
        "axs[1].set_title('training_data[0][0]')\n",
        "axs[1].axis('off')\n",
        "\n",
        "plt.show()\n",
        "image_array = image_array/255.0\n",
        "a0 = net.feedforward(np.reshape(image_array,(784,1)))\n",
        "print(a0)\n",
        "print(np.argmax(a0))"
      ]
    },
    {
      "cell_type": "code",
      "execution_count": 32,
      "metadata": {
        "id": "IjcxkIZ4ndAj",
        "colab": {
          "base_uri": "https://localhost:8080/",
          "height": 602
        },
        "outputId": "3e7997f1-2fc3-4fbe-912b-7d97b274d447"
      },
      "outputs": [
        {
          "output_type": "display_data",
          "data": {
            "text/plain": [
              "<Figure size 1000x500 with 2 Axes>"
            ],
            "image/png": "[encoded data removed]"
          },
          "metadata": {}
        },
        {
          "output_type": "stream",
          "name": "stdout",
          "text": [
            "[[3.70373989e-09]\n",
            " [7.33772014e-01]\n",
            " [1.51752248e-05]\n",
            " [1.98843771e-01]\n",
            " [1.34782611e-05]\n",
            " [8.46708692e-06]\n",
            " [5.83729286e-13]\n",
            " [4.49257458e-01]\n",
            " [7.62640545e-05]\n",
            " [1.19439195e-03]]\n",
            "1\n"
          ]
        }
      ],
      "source": [
        "import matplotlib.pyplot as plt\n",
        "import numpy as np\n",
        "from PIL import Image\n",
        "\n",
        "image_path = 'small4.png'\n",
        "image = Image.open(image_path).convert('L')\n",
        "\n",
        "# convert image to numpy array\n",
        "image_array = np.array(image)\n",
        "\n",
        "fig, axs = plt.subplots(1, 2, figsize=(10, 5))\n",
        "\n",
        "# display first image\n",
        "axs[0].imshow(image_array, cmap = 'gray')\n",
        "axs[0].set_title(image_path)\n",
        "axs[0].axis('off')\n",
        "\n",
        "# display second image\n",
        "axs[1].imshow(np.reshape(training_data[0][0], (28,28)))\n",
        "axs[1].set_title('training_data[0][0]')\n",
        "axs[1].axis('off')\n",
        "\n",
        "plt.show()\n",
        "image_array = image_array/255.0\n",
        "a0 = net.feedforward(np.reshape(image_array,(784,1)))\n",
        "print(a0)\n",
        "print(np.argmax(a0))"
      ]
    },
    {
      "cell_type": "code",
      "execution_count": 33,
      "metadata": {
        "id": "WMpw2ib-ndej",
        "colab": {
          "base_uri": "https://localhost:8080/",
          "height": 602
        },
        "outputId": "85eb25f5-5461-42b3-b6be-ed74f92e5f27"
      },
      "outputs": [
        {
          "output_type": "display_data",
          "data": {
            "text/plain": [
              "<Figure size 1000x500 with 2 Axes>"
            ],
            "image/png": "[encoded data removed]"
          },
          "metadata": {}
        },
        {
          "output_type": "stream",
          "name": "stdout",
          "text": [
            "[[1.44454654e-09]\n",
            " [8.63691667e-06]\n",
            " [2.98057219e-04]\n",
            " [9.81741809e-01]\n",
            " [4.78445792e-07]\n",
            " [3.12265095e-03]\n",
            " [9.28130405e-12]\n",
            " [1.89602130e-08]\n",
            " [2.78569413e-03]\n",
            " [2.72548997e-03]]\n",
            "3\n"
          ]
        }
      ],
      "source": [
        "import matplotlib.pyplot as plt\n",
        "import numpy as np\n",
        "from PIL import Image\n",
        "\n",
        "image_path = 'small5.png'\n",
        "image = Image.open(image_path).convert('L')\n",
        "\n",
        "# convert image to numpy array\n",
        "image_array = np.array(image)\n",
        "\n",
        "fig, axs = plt.subplots(1, 2, figsize=(10, 5))\n",
        "\n",
        "# display first image\n",
        "axs[0].imshow(image_array, cmap = 'gray')\n",
        "axs[0].set_title(image_path)\n",
        "axs[0].axis('off')\n",
        "\n",
        "# display second image\n",
        "axs[1].imshow(np.reshape(training_data[0][0], (28,28)))\n",
        "axs[1].set_title('training_data[0][0]')\n",
        "axs[1].axis('off')\n",
        "\n",
        "plt.show()\n",
        "image_array = image_array/255.0\n",
        "a0 = net.feedforward(np.reshape(image_array,(784,1)))\n",
        "print(a0)\n",
        "print(np.argmax(a0))"
      ]
    },
    {
      "cell_type": "code",
      "execution_count": 34,
      "metadata": {
        "id": "2cfS-v7tnd_5",
        "colab": {
          "base_uri": "https://localhost:8080/",
          "height": 602
        },
        "outputId": "ad4a07ea-f46e-4901-ad4b-74ef73dac2dd"
      },
      "outputs": [
        {
          "output_type": "display_data",
          "data": {
            "text/plain": [
              "<Figure size 1000x500 with 2 Axes>"
            ],
            "image/png": "[encoded data removed]"
          },
          "metadata": {}
        },
        {
          "output_type": "stream",
          "name": "stdout",
          "text": [
            "[[1.59330766e-13]\n",
            " [1.57732818e-03]\n",
            " [2.13144424e-04]\n",
            " [5.07726580e-07]\n",
            " [1.22115560e-06]\n",
            " [2.11523091e-01]\n",
            " [2.93449884e-11]\n",
            " [1.09848126e-03]\n",
            " [3.05834117e-09]\n",
            " [5.47164990e-01]]\n",
            "9\n"
          ]
        }
      ],
      "source": [
        "import matplotlib.pyplot as plt\n",
        "import numpy as np\n",
        "from PIL import Image\n",
        "\n",
        "image_path = 'small6.png'\n",
        "image = Image.open(image_path).convert('L')\n",
        "\n",
        "# convert image to numpy array\n",
        "image_array = np.array(image)\n",
        "\n",
        "fig, axs = plt.subplots(1, 2, figsize=(10, 5))\n",
        "\n",
        "# display first image\n",
        "axs[0].imshow(image_array, cmap = 'gray')\n",
        "axs[0].set_title(image_path)\n",
        "axs[0].axis('off')\n",
        "\n",
        "# display second image\n",
        "axs[1].imshow(np.reshape(training_data[0][0], (28,28)))\n",
        "axs[1].set_title('training_data[0][0]')\n",
        "axs[1].axis('off')\n",
        "\n",
        "plt.show()\n",
        "image_array = image_array/255.0\n",
        "a0 = net.feedforward(np.reshape(image_array,(784,1)))\n",
        "print(a0)\n",
        "print(np.argmax(a0))"
      ]
    },
    {
      "cell_type": "code",
      "execution_count": 35,
      "metadata": {
        "id": "ur28dE0hneaV",
        "colab": {
          "base_uri": "https://localhost:8080/",
          "height": 602
        },
        "outputId": "1c7064bd-076f-4278-f080-8b6989d0eb16"
      },
      "outputs": [
        {
          "output_type": "display_data",
          "data": {
            "text/plain": [
              "<Figure size 1000x500 with 2 Axes>"
            ],
            "image/png": "[encoded data removed]"
          },
          "metadata": {}
        },
        {
          "output_type": "stream",
          "name": "stdout",
          "text": [
            "[[2.46711296e-08]\n",
            " [8.71395111e-06]\n",
            " [4.04020973e-05]\n",
            " [2.83918987e-06]\n",
            " [5.20002100e-05]\n",
            " [1.45021302e-03]\n",
            " [3.28125128e-14]\n",
            " [9.76492074e-01]\n",
            " [5.34890493e-10]\n",
            " [4.10662740e-05]]\n",
            "7\n"
          ]
        }
      ],
      "source": [
        "import matplotlib.pyplot as plt\n",
        "import numpy as np\n",
        "from PIL import Image\n",
        "\n",
        "image_path = 'small7.png'\n",
        "image = Image.open(image_path).convert('L')\n",
        "\n",
        "# convert image to numpy array\n",
        "image_array = np.array(image)\n",
        "\n",
        "fig, axs = plt.subplots(1, 2, figsize=(10, 5))\n",
        "\n",
        "# display first image\n",
        "axs[0].imshow(image_array, cmap = 'gray')\n",
        "axs[0].set_title(image_path)\n",
        "axs[0].axis('off')\n",
        "\n",
        "# display second image\n",
        "axs[1].imshow(np.reshape(training_data[0][0], (28,28)))\n",
        "axs[1].set_title('training_data[0][0]')\n",
        "axs[1].axis('off')\n",
        "\n",
        "plt.show()\n",
        "image_array = image_array/255.0\n",
        "a0 = net.feedforward(np.reshape(image_array,(784,1)))\n",
        "print(a0)\n",
        "print(np.argmax(a0))"
      ]
    },
    {
      "cell_type": "code",
      "execution_count": 36,
      "metadata": {
        "id": "dSZeYpLtne0M",
        "colab": {
          "base_uri": "https://localhost:8080/",
          "height": 602
        },
        "outputId": "81d85a2d-3b9b-4d3c-fdbb-38569dddb4ae"
      },
      "outputs": [
        {
          "output_type": "display_data",
          "data": {
            "text/plain": [
              "<Figure size 1000x500 with 2 Axes>"
            ],
            "image/png": "[encoded data removed]"
          },
          "metadata": {}
        },
        {
          "output_type": "stream",
          "name": "stdout",
          "text": [
            "[[6.23336183e-09]\n",
            " [3.55789208e-02]\n",
            " [3.74807223e-08]\n",
            " [1.92848327e-04]\n",
            " [5.23284262e-05]\n",
            " [6.17114540e-01]\n",
            " [8.78324843e-11]\n",
            " [9.41250904e-01]\n",
            " [4.65823117e-10]\n",
            " [2.43415644e-05]]\n",
            "7\n"
          ]
        }
      ],
      "source": [
        "import matplotlib.pyplot as plt\n",
        "import numpy as np\n",
        "from PIL import Image\n",
        "\n",
        "image_path = 'small8.png'\n",
        "image = Image.open(image_path).convert('L')\n",
        "\n",
        "# convert image to numpy array\n",
        "image_array = np.array(image)\n",
        "\n",
        "fig, axs = plt.subplots(1, 2, figsize=(10, 5))\n",
        "\n",
        "# display first image\n",
        "axs[0].imshow(image_array, cmap = 'gray')\n",
        "axs[0].set_title(image_path)\n",
        "axs[0].axis('off')\n",
        "\n",
        "# display second image\n",
        "axs[1].imshow(np.reshape(training_data[0][0], (28,28)))\n",
        "axs[1].set_title('training_data[0][0]')\n",
        "axs[1].axis('off')\n",
        "\n",
        "plt.show()\n",
        "image_array = image_array/255.0\n",
        "a0 = net.feedforward(np.reshape(image_array,(784,1)))\n",
        "print(a0)\n",
        "print(np.argmax(a0))"
      ]
    },
    {
      "cell_type": "code",
      "execution_count": 37,
      "metadata": {
        "id": "Vvzh32hBnfSY",
        "colab": {
          "base_uri": "https://localhost:8080/",
          "height": 602
        },
        "outputId": "b53dd83a-2f0c-4f21-b7df-5a3675d01c7f"
      },
      "outputs": [
        {
          "output_type": "display_data",
          "data": {
            "text/plain": [
              "<Figure size 1000x500 with 2 Axes>"
            ],
            "image/png": "[encoded data removed]"
          },
          "metadata": {}
        },
        {
          "output_type": "stream",
          "name": "stdout",
          "text": [
            "[[4.69809095e-07]\n",
            " [2.08954138e-05]\n",
            " [2.58127613e-06]\n",
            " [1.25741243e-04]\n",
            " [1.18068543e-05]\n",
            " [9.34364693e-01]\n",
            " [5.09515313e-12]\n",
            " [3.52646269e-03]\n",
            " [2.20208395e-07]\n",
            " [9.65716334e-02]]\n",
            "5\n"
          ]
        }
      ],
      "source": [
        "import matplotlib.pyplot as plt\n",
        "import numpy as np\n",
        "from PIL import Image\n",
        "\n",
        "image_path = 'small9.png'\n",
        "image = Image.open(image_path).convert('L')\n",
        "\n",
        "# convert image to numpy array\n",
        "image_array = np.array(image)\n",
        "\n",
        "fig, axs = plt.subplots(1, 2, figsize=(10, 5))\n",
        "\n",
        "# display first image\n",
        "axs[0].imshow(image_array, cmap = 'gray')\n",
        "axs[0].set_title(image_path)\n",
        "axs[0].axis('off')\n",
        "\n",
        "# display second image\n",
        "axs[1].imshow(np.reshape(training_data[0][0], (28,28)))\n",
        "axs[1].set_title('training_data[0][0]')\n",
        "axs[1].axis('off')\n",
        "\n",
        "plt.show()\n",
        "image_array = image_array/255.0\n",
        "a0 = net.feedforward(np.reshape(image_array,(784,1)))\n",
        "print(a0)\n",
        "print(np.argmax(a0))"
      ]
    },
    {
      "cell_type": "code",
      "execution_count": 38,
      "metadata": {
        "id": "-tE3l9DFsxIb",
        "colab": {
          "base_uri": "https://localhost:8080/",
          "height": 602
        },
        "outputId": "475d61f9-4f1a-42f8-f417-a87fef0f08f0"
      },
      "outputs": [
        {
          "output_type": "display_data",
          "data": {
            "text/plain": [
              "<Figure size 1000x500 with 2 Axes>"
            ],
            "image/png": "[encoded data removed]"
          },
          "metadata": {}
        },
        {
          "output_type": "stream",
          "name": "stdout",
          "text": [
            "[[1.61179805e-10]\n",
            " [9.03056346e-07]\n",
            " [1.66208882e-01]\n",
            " [2.11971319e-03]\n",
            " [1.60896729e-13]\n",
            " [4.04568499e-02]\n",
            " [3.43045910e-11]\n",
            " [1.40326648e-02]\n",
            " [2.30582920e-08]\n",
            " [3.50939856e-11]]\n",
            "2\n"
          ]
        }
      ],
      "source": [
        "import matplotlib.pyplot as plt\n",
        "import numpy as np\n",
        "from PIL import Image\n",
        "\n",
        "image_path = 'large0.png'\n",
        "image = Image.open(image_path).convert('L')\n",
        "\n",
        "# convert image to numpy array\n",
        "image_array = np.array(image)\n",
        "\n",
        "fig, axs = plt.subplots(1, 2, figsize=(10, 5))\n",
        "\n",
        "# display first image\n",
        "axs[0].imshow(image_array, cmap = 'gray')\n",
        "axs[0].set_title(image_path)\n",
        "axs[0].axis('off')\n",
        "\n",
        "# display second image\n",
        "axs[1].imshow(np.reshape(training_data[0][0], (28,28)))\n",
        "axs[1].set_title('training_data[0][0]')\n",
        "axs[1].axis('off')\n",
        "\n",
        "plt.show()\n",
        "image_array = image_array/255.0\n",
        "a0 = net.feedforward(np.reshape(image_array,(784,1)))\n",
        "print(a0)\n",
        "print(np.argmax(a0))"
      ]
    },
    {
      "cell_type": "code",
      "execution_count": 39,
      "metadata": {
        "id": "aSqrukIDnfsU",
        "colab": {
          "base_uri": "https://localhost:8080/",
          "height": 602
        },
        "outputId": "715cd329-7f24-437d-e09c-5a139a9204d3"
      },
      "outputs": [
        {
          "output_type": "display_data",
          "data": {
            "text/plain": [
              "<Figure size 1000x500 with 2 Axes>"
            ],
            "image/png": "[encoded data removed]"
          },
          "metadata": {}
        },
        {
          "output_type": "stream",
          "name": "stdout",
          "text": [
            "[[3.14539947e-07]\n",
            " [5.95346306e-01]\n",
            " [8.52896728e-07]\n",
            " [2.45085402e-03]\n",
            " [8.32825659e-13]\n",
            " [3.48364014e-02]\n",
            " [1.56351125e-03]\n",
            " [3.01249130e-03]\n",
            " [3.35866286e-04]\n",
            " [1.07549371e-06]]\n",
            "1\n"
          ]
        }
      ],
      "source": [
        "import matplotlib.pyplot as plt\n",
        "import numpy as np\n",
        "from PIL import Image\n",
        "\n",
        "image_path = 'large1.png'\n",
        "image = Image.open(image_path).convert('L')\n",
        "\n",
        "# convert image to numpy array\n",
        "image_array = np.array(image)\n",
        "\n",
        "fig, axs = plt.subplots(1, 2, figsize=(10, 5))\n",
        "\n",
        "# display first image\n",
        "axs[0].imshow(image_array, cmap = 'gray')\n",
        "axs[0].set_title(image_path)\n",
        "axs[0].axis('off')\n",
        "\n",
        "# display second image\n",
        "axs[1].imshow(np.reshape(training_data[0][0], (28,28)))\n",
        "axs[1].set_title('training_data[0][0]')\n",
        "axs[1].axis('off')\n",
        "\n",
        "plt.show()\n",
        "image_array = image_array/255.0\n",
        "a0 = net.feedforward(np.reshape(image_array,(784,1)))\n",
        "print(a0)\n",
        "print(np.argmax(a0))"
      ]
    },
    {
      "cell_type": "code",
      "execution_count": 40,
      "metadata": {
        "id": "M8EZuHK1ngIc",
        "colab": {
          "base_uri": "https://localhost:8080/",
          "height": 602
        },
        "outputId": "9d277a51-9949-4d73-fe40-ed7bed22e58a"
      },
      "outputs": [
        {
          "output_type": "display_data",
          "data": {
            "text/plain": [
              "<Figure size 1000x500 with 2 Axes>"
            ],
            "image/png": "[encoded data removed]"
          },
          "metadata": {}
        },
        {
          "output_type": "stream",
          "name": "stdout",
          "text": [
            "[[4.96639554e-06]\n",
            " [5.56992179e-05]\n",
            " [2.82259646e-03]\n",
            " [9.76011847e-01]\n",
            " [1.88226660e-13]\n",
            " [7.57325144e-07]\n",
            " [7.11048502e-08]\n",
            " [3.93060140e-02]\n",
            " [5.64777229e-07]\n",
            " [3.53707135e-08]]\n",
            "3\n"
          ]
        }
      ],
      "source": [
        "import matplotlib.pyplot as plt\n",
        "import numpy as np\n",
        "from PIL import Image\n",
        "\n",
        "image_path = 'large2.png'\n",
        "image = Image.open(image_path).convert('L')\n",
        "\n",
        "# convert image to numpy array\n",
        "image_array = np.array(image)\n",
        "\n",
        "fig, axs = plt.subplots(1, 2, figsize=(10, 5))\n",
        "\n",
        "# display first image\n",
        "axs[0].imshow(image_array, cmap = 'gray')\n",
        "axs[0].set_title(image_path)\n",
        "axs[0].axis('off')\n",
        "\n",
        "# display second image\n",
        "axs[1].imshow(np.reshape(training_data[0][0], (28,28)))\n",
        "axs[1].set_title('training_data[0][0]')\n",
        "axs[1].axis('off')\n",
        "\n",
        "plt.show()\n",
        "image_array = image_array/255.0\n",
        "a0 = net.feedforward(np.reshape(image_array,(784,1)))\n",
        "print(a0)\n",
        "print(np.argmax(a0))"
      ]
    },
    {
      "cell_type": "code",
      "execution_count": 41,
      "metadata": {
        "id": "WBHvybC9ngiQ",
        "colab": {
          "base_uri": "https://localhost:8080/",
          "height": 602
        },
        "outputId": "34d54b03-9b0b-41d5-8da0-c2fa0c0e37dc"
      },
      "outputs": [
        {
          "output_type": "display_data",
          "data": {
            "text/plain": [
              "<Figure size 1000x500 with 2 Axes>"
            ],
            "image/png": "[encoded data removed]"
          },
          "metadata": {}
        },
        {
          "output_type": "stream",
          "name": "stdout",
          "text": [
            "[[4.03777340e-09]\n",
            " [3.17627838e-04]\n",
            " [1.63752359e-09]\n",
            " [9.24453074e-01]\n",
            " [1.34644804e-05]\n",
            " [1.93384009e-07]\n",
            " [1.90820404e-03]\n",
            " [1.44141348e-05]\n",
            " [3.64340480e-04]\n",
            " [3.36264297e-08]]\n",
            "3\n"
          ]
        }
      ],
      "source": [
        "import matplotlib.pyplot as plt\n",
        "import numpy as np\n",
        "from PIL import Image\n",
        "\n",
        "image_path = 'large3.png'\n",
        "image = Image.open(image_path).convert('L')\n",
        "\n",
        "# convert image to numpy array\n",
        "image_array = np.array(image)\n",
        "\n",
        "fig, axs = plt.subplots(1, 2, figsize=(10, 5))\n",
        "\n",
        "# display first image\n",
        "axs[0].imshow(image_array, cmap = 'gray')\n",
        "axs[0].set_title(image_path)\n",
        "axs[0].axis('off')\n",
        "\n",
        "# display second image\n",
        "axs[1].imshow(np.reshape(training_data[0][0], (28,28)))\n",
        "axs[1].set_title('training_data[0][0]')\n",
        "axs[1].axis('off')\n",
        "\n",
        "plt.show()\n",
        "image_array = image_array/255.0\n",
        "a0 = net.feedforward(np.reshape(image_array,(784,1)))\n",
        "print(a0)\n",
        "print(np.argmax(a0))"
      ]
    },
    {
      "cell_type": "code",
      "execution_count": 42,
      "metadata": {
        "id": "I-paetl7ng8F",
        "colab": {
          "base_uri": "https://localhost:8080/",
          "height": 602
        },
        "outputId": "31374e74-61fa-4399-82dc-1b98d8368018"
      },
      "outputs": [
        {
          "output_type": "display_data",
          "data": {
            "text/plain": [
              "<Figure size 1000x500 with 2 Axes>"
            ],
            "image/png": "[encoded data removed]"
          },
          "metadata": {}
        },
        {
          "output_type": "stream",
          "name": "stdout",
          "text": [
            "[[3.31495323e-03]\n",
            " [6.91664168e-14]\n",
            " [9.50983733e-08]\n",
            " [3.84303179e-05]\n",
            " [8.53109235e-01]\n",
            " [5.44009985e-04]\n",
            " [3.82500196e-05]\n",
            " [4.09831333e-05]\n",
            " [7.80093591e-07]\n",
            " [1.40866302e-04]]\n",
            "4\n"
          ]
        }
      ],
      "source": [
        "import matplotlib.pyplot as plt\n",
        "import numpy as np\n",
        "from PIL import Image\n",
        "\n",
        "image_path = 'large4.png'\n",
        "image = Image.open(image_path).convert('L')\n",
        "\n",
        "# convert image to numpy array\n",
        "image_array = np.array(image)\n",
        "\n",
        "fig, axs = plt.subplots(1, 2, figsize=(10, 5))\n",
        "\n",
        "# display first image\n",
        "axs[0].imshow(image_array, cmap = 'gray')\n",
        "axs[0].set_title(image_path)\n",
        "axs[0].axis('off')\n",
        "\n",
        "# display second image\n",
        "axs[1].imshow(np.reshape(training_data[0][0], (28,28)))\n",
        "axs[1].set_title('training_data[0][0]')\n",
        "axs[1].axis('off')\n",
        "\n",
        "plt.show()\n",
        "image_array = image_array/255.0\n",
        "a0 = net.feedforward(np.reshape(image_array,(784,1)))\n",
        "print(a0)\n",
        "print(np.argmax(a0))"
      ]
    },
    {
      "cell_type": "code",
      "execution_count": 43,
      "metadata": {
        "id": "CUmgDjfMnhYV",
        "colab": {
          "base_uri": "https://localhost:8080/",
          "height": 602
        },
        "outputId": "439828e6-a7b9-4fb2-ff78-df64abbef543"
      },
      "outputs": [
        {
          "output_type": "display_data",
          "data": {
            "text/plain": [
              "<Figure size 1000x500 with 2 Axes>"
            ],
            "image/png": "[encoded data removed]"
          },
          "metadata": {}
        },
        {
          "output_type": "stream",
          "name": "stdout",
          "text": [
            "[[1.21464581e-03]\n",
            " [4.45617590e-08]\n",
            " [7.06005555e-01]\n",
            " [2.48010798e-05]\n",
            " [1.33427893e-07]\n",
            " [5.43042022e-05]\n",
            " [2.72749128e-06]\n",
            " [9.99986114e-01]\n",
            " [1.44767840e-03]\n",
            " [5.89238955e-08]]\n",
            "7\n"
          ]
        }
      ],
      "source": [
        "import matplotlib.pyplot as plt\n",
        "import numpy as np\n",
        "from PIL import Image\n",
        "\n",
        "image_path = 'large5.png'\n",
        "image = Image.open(image_path).convert('L')\n",
        "\n",
        "# convert image to numpy array\n",
        "image_array = np.array(image)\n",
        "\n",
        "fig, axs = plt.subplots(1, 2, figsize=(10, 5))\n",
        "\n",
        "# display first image\n",
        "axs[0].imshow(image_array, cmap = 'gray')\n",
        "axs[0].set_title(image_path)\n",
        "axs[0].axis('off')\n",
        "\n",
        "# display second image\n",
        "axs[1].imshow(np.reshape(training_data[0][0], (28,28)))\n",
        "axs[1].set_title('training_data[0][0]')\n",
        "axs[1].axis('off')\n",
        "\n",
        "plt.show()\n",
        "image_array = image_array/255.0\n",
        "a0 = net.feedforward(np.reshape(image_array,(784,1)))\n",
        "print(a0)\n",
        "print(np.argmax(a0))"
      ]
    },
    {
      "cell_type": "code",
      "execution_count": 44,
      "metadata": {
        "id": "OYScmFL5nhxH",
        "colab": {
          "base_uri": "https://localhost:8080/",
          "height": 602
        },
        "outputId": "11d3dca3-a1bc-4256-def3-819adec2dc44"
      },
      "outputs": [
        {
          "output_type": "display_data",
          "data": {
            "text/plain": [
              "<Figure size 1000x500 with 2 Axes>"
            ],
            "image/png": "[encoded data removed]"
          },
          "metadata": {}
        },
        {
          "output_type": "stream",
          "name": "stdout",
          "text": [
            "[[6.89961964e-01]\n",
            " [1.98670397e-06]\n",
            " [3.65088353e-10]\n",
            " [2.39258453e-01]\n",
            " [6.59644758e-08]\n",
            " [5.51257757e-03]\n",
            " [1.28021027e-02]\n",
            " [2.09441797e-02]\n",
            " [1.29787452e-03]\n",
            " [1.20920061e-08]]\n",
            "0\n"
          ]
        }
      ],
      "source": [
        "import matplotlib.pyplot as plt\n",
        "import numpy as np\n",
        "from PIL import Image\n",
        "\n",
        "image_path = 'large6.png'\n",
        "image = Image.open(image_path).convert('L')\n",
        "\n",
        "# convert image to numpy array\n",
        "image_array = np.array(image)\n",
        "\n",
        "fig, axs = plt.subplots(1, 2, figsize=(10, 5))\n",
        "\n",
        "# display first image\n",
        "axs[0].imshow(image_array, cmap = 'gray')\n",
        "axs[0].set_title(image_path)\n",
        "axs[0].axis('off')\n",
        "\n",
        "# display second image\n",
        "axs[1].imshow(np.reshape(training_data[0][0], (28,28)))\n",
        "axs[1].set_title('training_data[0][0]')\n",
        "axs[1].axis('off')\n",
        "\n",
        "plt.show()\n",
        "image_array = image_array/255.0\n",
        "a0 = net.feedforward(np.reshape(image_array,(784,1)))\n",
        "print(a0)\n",
        "print(np.argmax(a0))"
      ]
    },
    {
      "cell_type": "code",
      "execution_count": 45,
      "metadata": {
        "id": "-yPksS4yniJ8",
        "colab": {
          "base_uri": "https://localhost:8080/",
          "height": 602
        },
        "outputId": "0cdbca55-a9b3-4941-933b-93f43a0abe64"
      },
      "outputs": [
        {
          "output_type": "display_data",
          "data": {
            "text/plain": [
              "<Figure size 1000x500 with 2 Axes>"
            ],
            "image/png": "[encoded data removed]"
          },
          "metadata": {}
        },
        {
          "output_type": "stream",
          "name": "stdout",
          "text": [
            "[[3.07043232e-09]\n",
            " [6.74208160e-08]\n",
            " [3.65891416e-07]\n",
            " [2.03469414e-05]\n",
            " [5.57377153e-09]\n",
            " [2.54958249e-01]\n",
            " [1.20896358e-05]\n",
            " [9.86521424e-01]\n",
            " [6.25365355e-07]\n",
            " [7.93728041e-13]]\n",
            "7\n"
          ]
        }
      ],
      "source": [
        "import matplotlib.pyplot as plt\n",
        "import numpy as np\n",
        "from PIL import Image\n",
        "\n",
        "image_path = 'large7.png'\n",
        "image = Image.open(image_path).convert('L')\n",
        "\n",
        "# convert image to numpy array\n",
        "image_array = np.array(image)\n",
        "\n",
        "fig, axs = plt.subplots(1, 2, figsize=(10, 5))\n",
        "\n",
        "# display first image\n",
        "axs[0].imshow(image_array, cmap = 'gray')\n",
        "axs[0].set_title(image_path)\n",
        "axs[0].axis('off')\n",
        "\n",
        "# display second image\n",
        "axs[1].imshow(np.reshape(training_data[0][0], (28,28)))\n",
        "axs[1].set_title('training_data[0][0]')\n",
        "axs[1].axis('off')\n",
        "\n",
        "plt.show()\n",
        "image_array = image_array/255.0\n",
        "a0 = net.feedforward(np.reshape(image_array,(784,1)))\n",
        "print(a0)\n",
        "print(np.argmax(a0))"
      ]
    },
    {
      "cell_type": "code",
      "execution_count": 46,
      "metadata": {
        "id": "MBv7VjY-nihB",
        "colab": {
          "base_uri": "https://localhost:8080/",
          "height": 602
        },
        "outputId": "0abf5c5a-2ed1-4e0c-fcdc-ae7f9cf2fa83"
      },
      "outputs": [
        {
          "output_type": "display_data",
          "data": {
            "text/plain": [
              "<Figure size 1000x500 with 2 Axes>"
            ],
            "image/png": "[encoded data removed]"
          },
          "metadata": {}
        },
        {
          "output_type": "stream",
          "name": "stdout",
          "text": [
            "[[9.88005366e-01]\n",
            " [1.81991827e-05]\n",
            " [8.35809776e-05]\n",
            " [2.53447343e-06]\n",
            " [3.70565846e-05]\n",
            " [1.61512710e-04]\n",
            " [7.27396886e-01]\n",
            " [7.97207123e-03]\n",
            " [5.59686063e-01]\n",
            " [1.09611943e-06]]\n",
            "0\n"
          ]
        }
      ],
      "source": [
        "import matplotlib.pyplot as plt\n",
        "import numpy as np\n",
        "from PIL import Image\n",
        "\n",
        "image_path = 'large8.png'\n",
        "image = Image.open(image_path).convert('L')\n",
        "\n",
        "# convert image to numpy array\n",
        "image_array = np.array(image)\n",
        "\n",
        "fig, axs = plt.subplots(1, 2, figsize=(10, 5))\n",
        "\n",
        "# display first image\n",
        "axs[0].imshow(image_array, cmap = 'gray')\n",
        "axs[0].set_title(image_path)\n",
        "axs[0].axis('off')\n",
        "\n",
        "# display second image\n",
        "axs[1].imshow(np.reshape(training_data[0][0], (28,28)))\n",
        "axs[1].set_title('training_data[0][0]')\n",
        "axs[1].axis('off')\n",
        "\n",
        "plt.show()\n",
        "image_array = image_array/255.0\n",
        "a0 = net.feedforward(np.reshape(image_array,(784,1)))\n",
        "print(a0)\n",
        "print(np.argmax(a0))"
      ]
    },
    {
      "cell_type": "code",
      "execution_count": 47,
      "metadata": {
        "id": "FJyqm-dvni6M",
        "colab": {
          "base_uri": "https://localhost:8080/",
          "height": 602
        },
        "outputId": "086e0f72-57bc-48be-d212-af85be7a6e23"
      },
      "outputs": [
        {
          "output_type": "display_data",
          "data": {
            "text/plain": [
              "<Figure size 1000x500 with 2 Axes>"
            ],
            "image/png": "[encoded data removed]"
          },
          "metadata": {}
        },
        {
          "output_type": "stream",
          "name": "stdout",
          "text": [
            "[[5.81110728e-01]\n",
            " [3.17244948e-07]\n",
            " [9.16806108e-05]\n",
            " [8.68433447e-01]\n",
            " [4.77874884e-13]\n",
            " [1.90763119e-05]\n",
            " [1.11972741e-04]\n",
            " [1.17882233e-05]\n",
            " [9.63711482e-06]\n",
            " [3.27982086e-07]]\n",
            "3\n"
          ]
        }
      ],
      "source": [
        "import matplotlib.pyplot as plt\n",
        "import numpy as np\n",
        "from PIL import Image\n",
        "\n",
        "image_path = 'large9.png'\n",
        "image = Image.open(image_path).convert('L')\n",
        "\n",
        "# convert image to numpy array\n",
        "image_array = np.array(image)\n",
        "\n",
        "fig, axs = plt.subplots(1, 2, figsize=(10, 5))\n",
        "\n",
        "# display first image\n",
        "axs[0].imshow(image_array, cmap = 'gray')\n",
        "axs[0].set_title(image_path)\n",
        "axs[0].axis('off')\n",
        "\n",
        "# display second image\n",
        "axs[1].imshow(np.reshape(training_data[0][0], (28,28)))\n",
        "axs[1].set_title('training_data[0][0]')\n",
        "axs[1].axis('off')\n",
        "\n",
        "plt.show()\n",
        "image_array = image_array/255.0\n",
        "a0 = net.feedforward(np.reshape(image_array,(784,1)))\n",
        "print(a0)\n",
        "print(np.argmax(a0))"
      ]
    },
    {
      "cell_type": "code",
      "source": [
        "import numpy as np\n",
        "from PIL import Image\n",
        "\n",
        "def evaluate_classification(net, image_paths, expected_labels):\n",
        "    correct_counts = {'good': 0, 'small': 0, 'large': 0}\n",
        "\n",
        "    for category, paths in image_paths.items():\n",
        "        for image_path, expected_label in zip(paths, expected_labels[category]):\n",
        "            # Load the image\n",
        "            image = Image.open(image_path).convert('L')\n",
        "            image_array = np.array(image) / 255.0\n",
        "\n",
        "            # Classify the image\n",
        "            output = net.feedforward(np.reshape(image_array, (28*28, 1)))\n",
        "            predicted_label = np.argmax(output)\n",
        "\n",
        "            # Check if the classification is correct\n",
        "            if predicted_label == expected_label:\n",
        "                correct_counts[category] += 1\n",
        "\n",
        "    return correct_counts\n",
        "\n",
        "# Assuming you have the paths and expected labels defined somewhere\n",
        "image_paths = {\n",
        "    'good': ['good0.png', 'good1.png', 'good2.png', 'good3.png', 'good4.png', 'good5.png', 'good6.png', 'good7.png', 'good8.png', 'good9.png' ],  # Add all paths for 'good' images\n",
        "    'small': ['small0.png', 'small1.png', 'small2.png', 'small3.png', 'small4.png', 'small5.png', 'small6.png', 'small7.png', 'small8.png', 'small9.png'],  # Add all paths for 'small' images\n",
        "    'large': ['large0.png', 'large1.png', 'large2.png', 'large3.png', 'large4.png', 'large5.png', 'large6.png', 'large7.png', 'large8.png', 'large9.png']  # Add all paths for 'large' images\n",
        "}\n",
        "\n",
        "expected_labels = {\n",
        "    'good': [0, 1, 2, 3, 4, 5, 6, 7, 8, 9],  # Add all expected labels for 'good' images\n",
        "    'small': [0, 1, 2, 3, 4, 5, 6, 7, 8, 9],  # Add all expected labels for 'small' images\n",
        "    'large': [0, 1, 2, 3, 4, 5, 6, 7, 8, 9]  # Add all expected labels for 'large' images\n",
        "}\n",
        "\n",
        "# Call the function to evaluate classification\n",
        "correct_counts = evaluate_classification(net, image_paths, expected_labels)\n",
        "\n",
        "# Display the counts of correctly classified images for each category\n",
        "for category, count in correct_counts.items():\n",
        "    print(f'Correctly classified {count} images in category: {category}')\n",
        "\n",
        "\n",
        "\n",
        "def evaluate_classification(net, test_data):\n",
        "    # Lists to store correctness for each digit (0-9) for each category\n",
        "    correct_counts = {'good': [0] * 10, 'small': [0] * 10, 'large': [0] * 10}\n",
        "\n",
        "    for image, label in test_data:\n",
        "        # Classify the image using the neural network\n",
        "        output = net.feedforward(np.reshape(image, (28*28, 1)))\n",
        "        predicted_class = np.argmax(output)\n",
        "\n",
        "        # Update the correct_counts lists based on the classification\n",
        "        category = get_image_category(label)  # Assuming you have a function to get the category\n",
        "        if predicted_class == label:\n",
        "            correct_counts[category][label] += 1\n",
        "\n",
        "    return correct_counts\n",
        "\n",
        "def print_classification_results(correct_counts):\n",
        "    for category, counts in correct_counts.items():\n",
        "        print(f\"Results for {category} images:\")\n",
        "        for digit, correct_count in enumerate(counts):\n",
        "            incorrect_count = len(test_data) - correct_count\n",
        "            print(f\"Digit {digit}: Correctly classified {correct_count} times, Incorrectly classified {incorrect_count} times\")\n",
        "        print()\n",
        "\n",
        "# Assuming you have a function get_image_category() to determine the category of an image\n",
        "def get_image_category(label):\n",
        "    if label < 5:\n",
        "        return 'good'\n",
        "    elif label < 7:\n",
        "        return 'small'\n",
        "    else:\n",
        "        return 'large'\n",
        "\n",
        "# Assuming you have test_data defined elsewhere\n",
        "correct_counts = evaluate_classification(net, test_data)\n",
        "print_classification_results(correct_counts)\n",
        "\n"
      ],
      "metadata": {
        "colab": {
          "base_uri": "https://localhost:8080/"
        },
        "id": "LJsyCF3n6bKT",
        "outputId": "7e94ef5e-623d-4993-f133-68aed959f096"
      },
      "execution_count": 51,
      "outputs": [
        {
          "output_type": "stream",
          "name": "stdout",
          "text": [
            "Correctly classified 7 images in category: good\n",
            "Correctly classified 1 images in category: small\n",
            "Correctly classified 4 images in category: large\n",
            "Results for good images:\n",
            "Digit 0: Correctly classified 0 times, Incorrectly classified 3 times\n",
            "Digit 1: Correctly classified 1 times, Incorrectly classified 2 times\n",
            "Digit 2: Correctly classified 1 times, Incorrectly classified 2 times\n",
            "Digit 3: Correctly classified 0 times, Incorrectly classified 3 times\n",
            "Digit 4: Correctly classified 0 times, Incorrectly classified 3 times\n",
            "Digit 5: Correctly classified 0 times, Incorrectly classified 3 times\n",
            "Digit 6: Correctly classified 0 times, Incorrectly classified 3 times\n",
            "Digit 7: Correctly classified 0 times, Incorrectly classified 3 times\n",
            "Digit 8: Correctly classified 0 times, Incorrectly classified 3 times\n",
            "Digit 9: Correctly classified 0 times, Incorrectly classified 3 times\n",
            "\n",
            "Results for small images:\n",
            "Digit 0: Correctly classified 0 times, Incorrectly classified 3 times\n",
            "Digit 1: Correctly classified 0 times, Incorrectly classified 3 times\n",
            "Digit 2: Correctly classified 0 times, Incorrectly classified 3 times\n",
            "Digit 3: Correctly classified 0 times, Incorrectly classified 3 times\n",
            "Digit 4: Correctly classified 0 times, Incorrectly classified 3 times\n",
            "Digit 5: Correctly classified 0 times, Incorrectly classified 3 times\n",
            "Digit 6: Correctly classified 0 times, Incorrectly classified 3 times\n",
            "Digit 7: Correctly classified 0 times, Incorrectly classified 3 times\n",
            "Digit 8: Correctly classified 0 times, Incorrectly classified 3 times\n",
            "Digit 9: Correctly classified 0 times, Incorrectly classified 3 times\n",
            "\n",
            "Results for large images:\n",
            "Digit 0: Correctly classified 0 times, Incorrectly classified 3 times\n",
            "Digit 1: Correctly classified 0 times, Incorrectly classified 3 times\n",
            "Digit 2: Correctly classified 0 times, Incorrectly classified 3 times\n",
            "Digit 3: Correctly classified 0 times, Incorrectly classified 3 times\n",
            "Digit 4: Correctly classified 0 times, Incorrectly classified 3 times\n",
            "Digit 5: Correctly classified 0 times, Incorrectly classified 3 times\n",
            "Digit 6: Correctly classified 0 times, Incorrectly classified 3 times\n",
            "Digit 7: Correctly classified 1 times, Incorrectly classified 2 times\n",
            "Digit 8: Correctly classified 0 times, Incorrectly classified 3 times\n",
            "Digit 9: Correctly classified 0 times, Incorrectly classified 3 times\n",
            "\n"
          ]
        }
      ]
    },
    {
      "cell_type": "code",
      "source": [
        "import expand_mnist"
      ],
      "metadata": {
        "colab": {
          "base_uri": "https://localhost:8080/"
        },
        "id": "PC3VL8AB-8Lv",
        "outputId": "e551b4e1-5e74-4512-9b11-9c84dc5299f4"
      },
      "execution_count": 54,
      "outputs": [
        {
          "output_type": "stream",
          "name": "stdout",
          "text": [
            "Expanding the MNIST training set\n",
            "Expanding image number 1000\n",
            "Expanding image number 2000\n",
            "Expanding image number 3000\n",
            "Expanding image number 4000\n",
            "Expanding image number 5000\n",
            "Expanding image number 6000\n",
            "Expanding image number 7000\n",
            "Expanding image number 8000\n",
            "Expanding image number 9000\n",
            "Expanding image number 10000\n",
            "Expanding image number 11000\n",
            "Expanding image number 12000\n",
            "Expanding image number 13000\n",
            "Expanding image number 14000\n",
            "Expanding image number 15000\n",
            "Expanding image number 16000\n",
            "Expanding image number 17000\n",
            "Expanding image number 18000\n",
            "Expanding image number 19000\n",
            "Expanding image number 20000\n",
            "Expanding image number 21000\n",
            "Expanding image number 22000\n",
            "Expanding image number 23000\n",
            "Expanding image number 24000\n",
            "Expanding image number 25000\n",
            "Expanding image number 26000\n",
            "Expanding image number 27000\n",
            "Expanding image number 28000\n",
            "Expanding image number 29000\n",
            "Expanding image number 30000\n",
            "Expanding image number 31000\n",
            "Expanding image number 32000\n",
            "Expanding image number 33000\n",
            "Expanding image number 34000\n",
            "Expanding image number 35000\n",
            "Expanding image number 36000\n",
            "Expanding image number 37000\n",
            "Expanding image number 38000\n",
            "Expanding image number 39000\n",
            "Expanding image number 40000\n",
            "Expanding image number 41000\n",
            "Expanding image number 42000\n",
            "Expanding image number 43000\n",
            "Expanding image number 44000\n",
            "Expanding image number 45000\n",
            "Expanding image number 46000\n",
            "Expanding image number 47000\n",
            "Expanding image number 48000\n",
            "Expanding image number 49000\n",
            "Expanding image number 50000\n",
            "Saving expanded data. This may take a few minutes.\n"
          ]
        }
      ]
    },
    {
      "cell_type": "code",
      "source": [
        "import mnist_loader\n",
        "import numpy as np\n",
        "training_data, validation_data, test_data = mnist_loader.load_data_wrapper(\"mnist_expanded.pkl.gz\")\n",
        "training_data=list(training_data)\n",
        "test_data = list(test_data)\n",
        "print(len(training_data))"
      ],
      "metadata": {
        "colab": {
          "base_uri": "https://localhost:8080/"
        },
        "id": "75fEGh4E_E6y",
        "outputId": "f2d0ead5-fba0-4877-e002-1fc428a34fbd"
      },
      "execution_count": 55,
      "outputs": [
        {
          "output_type": "stream",
          "name": "stdout",
          "text": [
            "250000\n"
          ]
        }
      ]
    },
    {
      "cell_type": "code",
      "source": [
        "import numpy as np\n",
        "from PIL import Image\n",
        "\n",
        "def evaluate_classification(net, image_paths, expected_labels):\n",
        "    correct_counts = {'good': 0, 'small': 0, 'large': 0}\n",
        "\n",
        "    for category, paths in image_paths.items():\n",
        "        for image_path, expected_label in zip(paths, expected_labels[category]):\n",
        "            # Load the image\n",
        "            image = Image.open(image_path).convert('L')\n",
        "            image_array = np.array(image) / 255.0\n",
        "\n",
        "            # Classify the image\n",
        "            output = net.feedforward(np.reshape(image_array, (28*28, 1)))\n",
        "            predicted_label = np.argmax(output)\n",
        "\n",
        "            # Check if the classification is correct\n",
        "            if predicted_label == expected_label:\n",
        "                correct_counts[category] += 1\n",
        "\n",
        "    return correct_counts\n",
        "\n",
        "# Assuming you have the paths and expected labels defined somewhere\n",
        "image_paths = {\n",
        "    'good': ['good0.png', 'good1.png', 'good2.png', 'good3.png', 'good4.png', 'good5.png', 'good6.png', 'good7.png', 'good8.png', 'good9.png' ],  # Add all paths for 'good' images\n",
        "    'small': ['small0.png', 'small1.png', 'small2.png', 'small3.png', 'small4.png', 'small5.png', 'small6.png', 'small7.png', 'small8.png', 'small9.png'],  # Add all paths for 'small' images\n",
        "    'large': ['large0.png', 'large1.png', 'large2.png', 'large3.png', 'large4.png', 'large5.png', 'large6.png', 'large7.png', 'large8.png', 'large9.png']  # Add all paths for 'large' images\n",
        "}\n",
        "\n",
        "expected_labels = {\n",
        "    'good': [0, 1, 2, 3, 4, 5, 6, 7, 8, 9],  # Add all expected labels for 'good' images\n",
        "    'small': [0, 1, 2, 3, 4, 5, 6, 7, 8, 9],  # Add all expected labels for 'small' images\n",
        "    'large': [0, 1, 2, 3, 4, 5, 6, 7, 8, 9]  # Add all expected labels for 'large' images\n",
        "}\n",
        "\n",
        "# Call the function to evaluate classification\n",
        "correct_counts = evaluate_classification(net, image_paths, expected_labels)\n",
        "\n",
        "# Display the counts of correctly classified images for each category\n",
        "for category, count in correct_counts.items():\n",
        "    print(f'Correctly classified {count} images in category: {category}')\n",
        "\n",
        "\n",
        "\n",
        "def evaluate_classification(net, test_data):\n",
        "    # Lists to store correctness for each digit (0-9) for each category\n",
        "    correct_counts = {'good': [0] * 10, 'small': [0] * 10, 'large': [0] * 10}\n",
        "\n",
        "    for image, label in test_data:\n",
        "        # Classify the image using the neural network\n",
        "        output = net.feedforward(np.reshape(image, (28*28, 1)))\n",
        "        predicted_class = np.argmax(output)\n",
        "\n",
        "        # Update the correct_counts lists based on the classification\n",
        "        category = get_image_category(label)  # Assuming you have a function to get the category\n",
        "        if predicted_class == label:\n",
        "            correct_counts[category][label] += 1\n",
        "\n",
        "    return correct_counts\n",
        "\n",
        "def print_classification_results(correct_counts):\n",
        "    for category, counts in correct_counts.items():\n",
        "        print(f\"Results for {category} images:\")\n",
        "        for digit, correct_count in enumerate(counts):\n",
        "            incorrect_count = 10 - correct_count\n",
        "            print(f\"Digit {digit}: Correctly classified {correct_count} times, Incorrectly classified {incorrect_count} times\")\n",
        "        print()\n",
        "\n",
        "# Assuming you have a function get_image_category() to determine the category of an image\n",
        "def get_image_category(label):\n",
        "    if label < 5:\n",
        "        return 'good'\n",
        "    elif label < 7:\n",
        "        return 'small'\n",
        "    else:\n",
        "        return 'large'\n",
        "\n",
        "# Assuming you have test_data defined elsewhere\n",
        "correct_counts = evaluate_classification(net, test_data)\n",
        "print_classification_results(correct_counts)"
      ],
      "metadata": {
        "colab": {
          "base_uri": "https://localhost:8080/"
        },
        "id": "zxnqjus8BWyn",
        "outputId": "6fdde586-a197-413e-b961-d5fecc5e6a77"
      },
      "execution_count": 58,
      "outputs": [
        {
          "output_type": "stream",
          "name": "stdout",
          "text": [
            "Correctly classified 7 images in category: good\n",
            "Correctly classified 1 images in category: small\n",
            "Correctly classified 3 images in category: large\n",
            "Results for good images:\n",
            "Digit 0: Correctly classified 0 times, Incorrectly classified 10 times\n",
            "Digit 1: Correctly classified 1 times, Incorrectly classified 9 times\n",
            "Digit 2: Correctly classified 1 times, Incorrectly classified 9 times\n",
            "Digit 3: Correctly classified 0 times, Incorrectly classified 10 times\n",
            "Digit 4: Correctly classified 0 times, Incorrectly classified 10 times\n",
            "Digit 5: Correctly classified 0 times, Incorrectly classified 10 times\n",
            "Digit 6: Correctly classified 0 times, Incorrectly classified 10 times\n",
            "Digit 7: Correctly classified 0 times, Incorrectly classified 10 times\n",
            "Digit 8: Correctly classified 0 times, Incorrectly classified 10 times\n",
            "Digit 9: Correctly classified 0 times, Incorrectly classified 10 times\n",
            "\n",
            "Results for small images:\n",
            "Digit 0: Correctly classified 0 times, Incorrectly classified 10 times\n",
            "Digit 1: Correctly classified 0 times, Incorrectly classified 10 times\n",
            "Digit 2: Correctly classified 0 times, Incorrectly classified 10 times\n",
            "Digit 3: Correctly classified 0 times, Incorrectly classified 10 times\n",
            "Digit 4: Correctly classified 0 times, Incorrectly classified 10 times\n",
            "Digit 5: Correctly classified 0 times, Incorrectly classified 10 times\n",
            "Digit 6: Correctly classified 0 times, Incorrectly classified 10 times\n",
            "Digit 7: Correctly classified 0 times, Incorrectly classified 10 times\n",
            "Digit 8: Correctly classified 0 times, Incorrectly classified 10 times\n",
            "Digit 9: Correctly classified 0 times, Incorrectly classified 10 times\n",
            "\n",
            "Results for large images:\n",
            "Digit 0: Correctly classified 0 times, Incorrectly classified 10 times\n",
            "Digit 1: Correctly classified 0 times, Incorrectly classified 10 times\n",
            "Digit 2: Correctly classified 0 times, Incorrectly classified 10 times\n",
            "Digit 3: Correctly classified 0 times, Incorrectly classified 10 times\n",
            "Digit 4: Correctly classified 0 times, Incorrectly classified 10 times\n",
            "Digit 5: Correctly classified 0 times, Incorrectly classified 10 times\n",
            "Digit 6: Correctly classified 0 times, Incorrectly classified 10 times\n",
            "Digit 7: Correctly classified 1 times, Incorrectly classified 9 times\n",
            "Digit 8: Correctly classified 0 times, Incorrectly classified 10 times\n",
            "Digit 9: Correctly classified 0 times, Incorrectly classified 10 times\n",
            "\n"
          ]
        }
      ]
    }
  ],
  "metadata": {
    "colab": {
      "provenance": [],
      "authorship_tag": "ABX9TyMcuicJITRGNsFUFVGGG6e1",
      "include_colab_link": true
    },
    "kernelspec": {
      "display_name": "Python 3",
      "name": "python3"
    },
    "language_info": {
      "name": "python"
    }
  },
  "nbformat": 4,
  "nbformat_minor": 0
}