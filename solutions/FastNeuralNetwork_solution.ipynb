{
  "nbformat": 4,
  "nbformat_minor": 0,
  "metadata": {
    "colab": {
      "provenance": [],
      "include_colab_link": true
    },
    "kernelspec": {
      "name": "python3",
      "display_name": "Python 3"
    },
    "language_info": {
      "name": "python"
    }
  },
  "cells": [
    {
      "cell_type": "markdown",
      "metadata": {
        "id": "view-in-github",
        "colab_type": "text"
      },
      "source": [
        "<a href=\"https://colab.research.google.com/github/ifriedma/cosc470s24/blob/main/solutions/FastNeuralNetwork_solution.ipynb\" target=\"_parent\"><img src=\"https://colab.research.google.com/assets/colab-badge.svg\" alt=\"Open In Colab\"/></a>"
      ]
    },
    {
      "cell_type": "markdown",
      "source": [
        "The **Hello, world** of neural networks\n",
        "This code builds a simple neural network that can recognize handwritten 28x28 pixel digits.\n",
        "\n",
        "Our first version will have 15 neurons in the hidden layer and 10 output neurons.\n",
        "\n",
        "See image below:\n",
        "http://neuralnetworksanddeeplearning.com/images/tikz12.png\n",
        "\n",
        "How many weights in this network?\n",
        "11760 weights in the first layer (784 * 15) and 150 weights in the second layer (15 * 10) = 11910 weights total\n",
        "15 biases in the hidden layer and 10 biases in the output layer = 25 biases total.\n",
        "11910 + 25 = 11935 parameters!"
      ],
      "metadata": {
        "id": "X6OTVSJZLxzO"
      }
    },
    {
      "cell_type": "code",
      "execution_count": 11,
      "metadata": {
        "id": "NQQ0yjJ6LUBN",
        "colab": {
          "base_uri": "https://localhost:8080/"
        },
        "outputId": "b9a4d478-953a-4dd5-ff3f-26cf6361d82c"
      },
      "outputs": [
        {
          "output_type": "stream",
          "name": "stdout",
          "text": [
            "Cloning into 'nn'...\n",
            "remote: Enumerating objects: 63, done.\u001b[K\n",
            "remote: Counting objects:  12% (1/8)\u001b[K\rremote: Counting objects:  25% (2/8)\u001b[K\rremote: Counting objects:  37% (3/8)\u001b[K\rremote: Counting objects:  50% (4/8)\u001b[K\rremote: Counting objects:  62% (5/8)\u001b[K\rremote: Counting objects:  75% (6/8)\u001b[K\rremote: Counting objects:  87% (7/8)\u001b[K\rremote: Counting objects: 100% (8/8)\u001b[K\rremote: Counting objects: 100% (8/8), done.\u001b[K\n",
            "remote: Compressing objects: 100% (8/8), done.\u001b[K\n",
            "remote: Total 63 (delta 1), reused 3 (delta 0), pack-reused 55\u001b[K\n",
            "Receiving objects: 100% (63/63), 16.43 MiB | 27.86 MiB/s, done.\n",
            "Resolving deltas: 100% (28/28), done.\n",
            "/content/nn/nn\n"
          ]
        }
      ],
      "source": [
        "!git clone https://github.com/MichalDanielDobrzanski/DeepLearningPython nn\n",
        "%cd nn"
      ]
    },
    {
      "cell_type": "code",
      "source": [
        "# this code depends on having executed the previous cell\n",
        "# (i.e., you need to have cloned the nn code and cd'ed into it)\n",
        "import network\n",
        "import mnist_loader\n",
        "training_data, validation_data, test_data = mnist_loader.load_data_wrapper()\n",
        "training_data = list(training_data)\n",
        "test_data = list(test_data)"
      ],
      "metadata": {
        "id": "TY_GaewAIO1z"
      },
      "execution_count": 12,
      "outputs": []
    },
    {
      "cell_type": "code",
      "source": [
        "import numpy as np\n",
        "print(np.shape(training_data))\n",
        "print(np.shape(training_data[0][0]))\n",
        "print(np.shape(training_data[0][1]))\n",
        "print(training_data[0][1])"
      ],
      "metadata": {
        "colab": {
          "base_uri": "https://localhost:8080/"
        },
        "id": "5OCPyJhtQYtc",
        "outputId": "86eab6fd-f6ec-4601-c0d5-e3d50e86fe6c"
      },
      "execution_count": 13,
      "outputs": [
        {
          "output_type": "stream",
          "name": "stdout",
          "text": [
            "(50000, 2)\n",
            "(784, 1)\n",
            "(10, 1)\n",
            "[[0.]\n",
            " [0.]\n",
            " [0.]\n",
            " [0.]\n",
            " [0.]\n",
            " [1.]\n",
            " [0.]\n",
            " [0.]\n",
            " [0.]\n",
            " [0.]]\n"
          ]
        },
        {
          "output_type": "stream",
          "name": "stderr",
          "text": [
            "/usr/local/lib/python3.10/dist-packages/numpy/core/fromnumeric.py:2009: VisibleDeprecationWarning: Creating an ndarray from ragged nested sequences (which is a list-or-tuple of lists-or-tuples-or ndarrays with different lengths or shapes) is deprecated. If you meant to do this, you must specify 'dtype=object' when creating the ndarray.\n",
            "  result = asarray(a).shape\n"
          ]
        }
      ]
    },
    {
      "cell_type": "code",
      "source": [
        "# average digit darkness\n",
        "# step 1 - write a function that can calculate the darkness of a single image\n",
        "def image_darkness(imgpixeldata):\n",
        "  darkness_total = 0\n",
        "  for x in imgpixeldata:\n",
        "    darkness_total = darkness_total + x\n",
        "  return darkness_total[0]\n",
        "\n",
        "# step 2 - call that function on all the training images and calculate the average darkness of each digit\n",
        "darkness = image_darkness(training_data[0][0])\n",
        "whichimage = np.argmax(training_data[0][1])\n",
        "print(f\"The first image was a {whichimage} and its darkness was {darkness}\")\n",
        "darkness = image_darkness(training_data[1][0])\n",
        "whichimage = np.argmax(training_data[1][1])\n",
        "print(f\"The second image was a {whichimage} and its darkness was {darkness}\")\n",
        "\n",
        "# define a 10-element list of darkness totals\n",
        "darkness_totals = [0 for _ in range(10)]\n",
        "# define a 10-elment list of digit counts\n",
        "darkness_counts = [0 for _ in range(10)]\n",
        "\n",
        "# iterate through each image and update the two data structures\n",
        "for training_img in training_data:\n",
        "  darkness = image_darkness(training_img[0]) # replace this with the correct function call!\n",
        "  darkness_totals[whichimage] += darkness\n",
        "  whichimage = np.argmax(training_img[1])\n",
        "  darkness_counts[whichimage] += 1\n",
        "\n",
        "# now calculate the averages\n",
        "darkness_averages = [darkness_totals[i]/darkness_counts[i] for i in range(10)]\n",
        "\n",
        "print(darkness_counts)\n",
        "print(darkness_averages)\n",
        "\n",
        "# step 3 - use those averages to classify all the test data images and count how many of each digit you get right\n",
        "def find_closest(darkness, darkness_averages):\n",
        "   # Calculate the difference(abs) between darkness and each average darkness\n",
        "    differences = [abs(avg - darkness) for avg in darkness_averages]\n",
        "\n",
        "    # Find the index of the minimum(min) difference, indicating the closest darkness average\n",
        "    closest_index = differences.index(min(differences))\n",
        "\n",
        "    return closest_index\n",
        "\n",
        "correct_counts = [0 for _ in range(10)]\n",
        "wrong_counts = [0 for _ in range(10)]\n",
        "\n",
        "for imgdata, whichimage in test_data:\n",
        "  darkness = image_darkness(imgdata)\n",
        "  # see which darkness_average is closest to \"darkness\" and make that our classification for this image\n",
        "  closest_digit = find_closest(darkness, darkness_averages)\n",
        "  if closest_digit == whichimage:\n",
        "    correct_counts[whichimage] += 1\n",
        "  else:\n",
        "    wrong_counts[whichimage] += 1\n",
        "\n",
        "# now that we have our correct/wrong counts, turn that into accuracies\n",
        "digit_accuracies = [correct_counts[i]/(correct_counts[i]+wrong_counts[i]) for i in range(10)]\n",
        "print(digit_accuracies)"
      ],
      "metadata": {
        "colab": {
          "base_uri": "https://localhost:8080/"
        },
        "id": "xiMrbkucJPL9",
        "outputId": "6e861a74-da38-4faf-ed29-d0cedd09afe1"
      },
      "execution_count": 14,
      "outputs": [
        {
          "output_type": "stream",
          "name": "stdout",
          "text": [
            "The first image was a 5 and its darkness was 107.51953125\n",
            "The second image was a 0 and its darkness was 121.46484375\n",
            "[4932, 5678, 4968, 5101, 4859, 4506, 4951, 5175, 4842, 4988]\n",
            "[101.94928923991282, 102.97507512548432, 102.14652762052134, 102.27288613752205, 102.61187840862317, 102.63065045217488, 102.3433397293476, 101.93702445652174, 101.99264573007022, 101.81347186372294]\n",
            "[0.0, 0.02907488986784141, 0.0009689922480620155, 0.0019801980198019802, 0.0010183299389002036, 0.002242152466367713, 0.0020876826722338203, 0.0019455252918287938, 0.004106776180698152, 0.6174430128840436]\n"
          ]
        }
      ]
    },
    {
      "cell_type": "code",
      "source": [
        "print(np.shape(test_data))\n",
        "print(np.shape(test_data[0]))\n",
        "print(test_data[0][1])\n"
      ],
      "metadata": {
        "colab": {
          "base_uri": "https://localhost:8080/"
        },
        "id": "vRcQD33wRB1c",
        "outputId": "b6af70c3-91d7-4836-9df8-c6bf32021475"
      },
      "execution_count": 15,
      "outputs": [
        {
          "output_type": "stream",
          "name": "stdout",
          "text": [
            "(10000, 2)\n",
            "(2,)\n",
            "7\n"
          ]
        }
      ]
    },
    {
      "cell_type": "code",
      "source": [
        "# part 2 - use this default configuration and the following hyper-parameters\n",
        "#   epochs - 30\n",
        "#   batch size - 10\n",
        "#   learning rate - 3.0\n",
        "net = network.Network([784, 30, 10])\n",
        "net.SGD(training_data, 30, 10, 3.0, test_data=test_data)"
      ],
      "metadata": {
        "colab": {
          "base_uri": "https://localhost:8080/"
        },
        "id": "V3qm9cgIQ2rh",
        "outputId": "47643378-b7bf-44dd-855b-158aab61358f"
      },
      "execution_count": 16,
      "outputs": [
        {
          "output_type": "stream",
          "name": "stdout",
          "text": [
            "Epoch 0 : 8234 / 10000\n",
            "Epoch 1 : 9184 / 10000\n",
            "Epoch 2 : 9318 / 10000\n",
            "Epoch 3 : 9333 / 10000\n",
            "Epoch 4 : 9362 / 10000\n",
            "Epoch 5 : 9384 / 10000\n",
            "Epoch 6 : 9444 / 10000\n",
            "Epoch 7 : 9382 / 10000\n",
            "Epoch 8 : 9441 / 10000\n",
            "Epoch 9 : 9448 / 10000\n",
            "Epoch 10 : 9444 / 10000\n",
            "Epoch 11 : 9457 / 10000\n",
            "Epoch 12 : 9449 / 10000\n",
            "Epoch 13 : 9459 / 10000\n",
            "Epoch 14 : 9461 / 10000\n",
            "Epoch 15 : 9457 / 10000\n",
            "Epoch 16 : 9455 / 10000\n",
            "Epoch 17 : 9463 / 10000\n",
            "Epoch 18 : 9464 / 10000\n",
            "Epoch 19 : 9475 / 10000\n",
            "Epoch 20 : 9434 / 10000\n",
            "Epoch 21 : 9484 / 10000\n",
            "Epoch 22 : 9487 / 10000\n",
            "Epoch 23 : 9488 / 10000\n",
            "Epoch 24 : 9485 / 10000\n",
            "Epoch 25 : 9470 / 10000\n",
            "Epoch 26 : 9489 / 10000\n",
            "Epoch 27 : 9478 / 10000\n",
            "Epoch 28 : 9495 / 10000\n",
            "Epoch 29 : 9495 / 10000\n"
          ]
        }
      ]
    },
    {
      "cell_type": "code",
      "source": [
        "import numpy as np\n",
        "a = net.feedforward(test_data[2][0])\n",
        "print(a)\n",
        "print(np.argmax(a))\n",
        "print(test_data[2][1])\n",
        "\n",
        "# per digit accuracies\n",
        "# loop through the test data again\n",
        "# calculate how many of each digit was classified correctly\n",
        "correct_counts = [0 for _ in range(10)]\n",
        "digit_counts = [0 for _ in range(10)]\n",
        "for (x, y) in test_data:\n",
        "  a = np.argmax(net.feedforward(x))\n",
        "  if a == y:\n",
        "    correct_counts[y] += 1\n",
        "  digit_counts[y] += 1\n",
        "\n",
        "print(correct_counts)\n",
        "print(digit_counts)\n",
        "accuracies = [correct_counts[i]/digit_counts[i] for i in range(10)]\n",
        "print(accuracies)"
      ],
      "metadata": {
        "colab": {
          "base_uri": "https://localhost:8080/"
        },
        "id": "wkXJm-lmo8xB",
        "outputId": "810a782d-eef3-46c8-cdc5-ca15ee93f560"
      },
      "execution_count": 17,
      "outputs": [
        {
          "output_type": "stream",
          "name": "stdout",
          "text": [
            "[[1.18491441e-13]\n",
            " [9.99776586e-01]\n",
            " [1.18187438e-05]\n",
            " [2.84739734e-06]\n",
            " [3.22160856e-08]\n",
            " [3.35859013e-05]\n",
            " [4.41586043e-06]\n",
            " [3.91118435e-05]\n",
            " [3.39021886e-03]\n",
            " [1.20291168e-07]]\n",
            "1\n",
            "1\n",
            "[957, 1118, 975, 951, 936, 827, 921, 973, 905, 932]\n",
            "[980, 1135, 1032, 1010, 982, 892, 958, 1028, 974, 1009]\n",
            "[0.976530612244898, 0.9850220264317181, 0.9447674418604651, 0.9415841584158415, 0.9531568228105907, 0.9271300448430493, 0.9613778705636743, 0.9464980544747081, 0.9291581108829569, 0.9236868186323092]\n"
          ]
        }
      ]
    },
    {
      "cell_type": "code",
      "source": [
        "print(np.shape(net.weights[0]))\n",
        "print(net.weights[0])"
      ],
      "metadata": {
        "colab": {
          "base_uri": "https://localhost:8080/"
        },
        "id": "-adILgnNKqe9",
        "outputId": "69d16608-def7-42a7-8731-9152ce88acbc"
      },
      "execution_count": 18,
      "outputs": [
        {
          "output_type": "stream",
          "name": "stdout",
          "text": [
            "(30, 784)\n",
            "[[-1.45703795  0.07847585 -0.52754756 ...  0.98729917 -2.17304283\n",
            "  -0.00271768]\n",
            " [-1.4755841   0.27522848  1.18053758 ... -1.13641965 -0.19404105\n",
            "   0.79332824]\n",
            " [ 0.290793    0.25550975  1.7855057  ...  0.01069715 -2.09493813\n",
            "  -0.27738659]\n",
            " ...\n",
            " [-2.54916768  0.09822973  0.59908476 ... -1.47619687  0.06114972\n",
            "  -1.10225908]\n",
            " [-0.9887885   0.41138918 -1.53247894 ...  0.17896676  0.9322645\n",
            "  -0.11103201]\n",
            " [-0.0999654   1.1885623   0.40553775 ... -0.41338757  1.6562466\n",
            "  -1.57232064]]\n"
          ]
        }
      ]
    },
    {
      "cell_type": "code",
      "source": [
        "import matplotlib.pyplot as plt\n",
        "fig = plt.figure(figsize = (10, 5))\n",
        "  #creating the bar plot\n",
        "plt.bar(range(0,10), accuracies, color = 'maroon', width = 0.4)\n",
        "plt.xlabel(\"Digit\")\n",
        "plt.ylabel(\"Accuracy\")\n",
        "plt.title(\"Per digit accuracy for standard hyperparams\")\n",
        "plt.show()"
      ],
      "metadata": {
        "id": "Y4NNjiphBp6p",
        "colab": {
          "base_uri": "https://localhost:8080/",
          "height": 487
        },
        "outputId": "371d71bd-d725-47c5-e303-a8045f4b250e"
      },
      "execution_count": 19,
      "outputs": [
        {
          "output_type": "display_data",
          "data": {
            "text/plain": [
              "<Figure size 1000x500 with 1 Axes>"
            ],
            "image/png": "[encoded data removed]"
          },
          "metadata": {}
        }
      ]
    },
    {
      "cell_type": "code",
      "source": [
        "print(np.shape(net.weights[1]))\n",
        "print(net.weights[1])"
      ],
      "metadata": {
        "colab": {
          "base_uri": "https://localhost:8080/"
        },
        "id": "3HFpBqj4MJWh",
        "outputId": "5a60d8ae-9372-4333-a050-434c9a95b6af"
      },
      "execution_count": 20,
      "outputs": [
        {
          "output_type": "stream",
          "name": "stdout",
          "text": [
            "(10, 30)\n",
            "[[ 3.77269736 -5.18775836 -3.65354483 -3.11264847  0.9962266  -5.88421721\n",
            "   3.01462644  0.19028508 -0.5533501  -3.43821734  2.40865612 -3.22477993\n",
            "  -0.47981196 -3.58567434 -0.52425317 -1.11231207 -1.93955097 -1.31021361\n",
            "   4.79104245  5.27248802 -5.8227673   0.60049827  1.04910846 -2.61151651\n",
            "  -0.95354617  0.2460337  -2.74811964 -3.76770905 -2.31582349  2.14507868]\n",
            " [-0.79811092  6.134574   -0.63363439  4.17864883  1.10692915  3.29619161\n",
            "  -1.73047265 -3.16142536 -0.87639787 -2.08861762 -1.46109947 -0.77424878\n",
            "  -3.45841286 -1.65374072  2.11586768 -3.29927897 -2.11478758  5.47204898\n",
            "  -2.9300168  -3.80287212  1.55263225 -4.0484821   3.47909351 -1.33431738\n",
            "  -1.37462408 -0.93701224 -4.12762369 -2.01746934 -3.10474171  0.04707076]\n",
            " [-7.08499251  0.4128557  -4.54831792  5.60797489  0.31526172  2.06159283\n",
            "   2.85084651 -0.23477989 -1.22352516 -1.52260587  0.58942614 -0.89630047\n",
            "   0.95065243 -2.26957935 -3.50091858  5.04158156 -4.13253662 -0.88104236\n",
            "   8.86041829 -3.18154339 -2.82407954  0.73988632 -8.26209579 -3.14538309\n",
            "  -1.64600645  1.60723293  4.03459979 -4.31680913  1.12306074 -1.24152215]\n",
            " [-2.53929393 -0.48168526 -2.57121339 -3.84572586  1.78617677 -3.10014083\n",
            "   2.0818009  -0.47495786 -2.98092948 -7.67143354  1.19366944 -2.52015278\n",
            "   0.14508715  2.21793473  3.73177885  2.39583538  1.02633906  3.01864761\n",
            "  -4.62617547  3.76449297 -2.31307536 -4.46610226  0.2360222  -0.48612385\n",
            "   0.82957863  2.95520569  5.50603217 -6.785627    2.87439369 -1.34776755]\n",
            " [-0.85553387 -0.64447491 -2.01856878 -4.27244808  0.5470254  -2.14356584\n",
            "   0.91115287  0.07905742 -7.19767512  2.05983731 -4.35542007  3.73716247\n",
            "   6.32493662 -0.25130834  2.99829087 -6.01828695  1.90700157  4.92905929\n",
            "  -0.89194806  1.8668199  -1.82986351 -1.03984236 -2.25237849 -2.22622768\n",
            "  -4.43397701 -4.32440061 -3.79855973 -4.35389934  0.50825988 -4.36171829]\n",
            " [-5.80210245 -1.21111488 -1.04537856  2.85205685 -1.42796104 -0.29858313\n",
            "  -2.80074909 -2.70848431  6.26569025 -5.15374519 -1.01677339  1.69269567\n",
            "   1.38098457  2.68757917 -4.92480968 -1.32581309  4.1415774  -4.27966701\n",
            "  -3.82590033  0.52619579 -0.47572096  4.95205215  1.51305317  1.2680399\n",
            "  -2.40111486  4.05155741 -3.16539738 14.15861589 -4.69188087  0.64210904]\n",
            " [ 1.73888167  1.70959331 -4.55136584 -3.61985856  0.54785621  3.9768667\n",
            "  -3.67586788  3.0717854  -1.588978    0.62147174 -2.63553542 -3.31352704\n",
            "   2.76200576 -1.10325116  1.11656935 -2.83800324 -2.11689481 -1.49192332\n",
            "   5.87050713  0.95180981 -4.87079967  1.42332587 -0.99058286 -4.58000725\n",
            "   3.81695598 -3.92707837 -5.16230842  0.70813637 -0.29917159  2.9661702 ]\n",
            " [ 2.34892691 -1.57121527 -6.68944483  1.77975906 -1.37148337 -3.19841058\n",
            "  -2.95346846 -0.58550297  4.91749208  5.19009837  5.19410139  2.80520626\n",
            "   0.14996356 -1.69301148  0.45847405 -0.79381575 -2.74962647  1.89876436\n",
            "   5.73053971 -2.05581245 -4.46502668 -1.53633798  2.93335339  4.56907871\n",
            "   2.1868577  -0.55462159  3.76636751 -4.60782993 -0.76012083 -2.27996934]\n",
            " [-3.93285271 -2.3461315  -6.32737625 -2.8634305   0.43162404 -1.15939144\n",
            "  -0.08080591  2.3686466  -3.94836558 -6.14831855 -0.67839854 -2.11937732\n",
            "  -0.81021224  3.95588601 -3.43968147 -2.00058124  2.27456222 -4.25069641\n",
            "   3.53333894 -1.33361069 -4.24748066 -0.62017696 -0.45110277  5.96921599\n",
            "  -2.5524668  -6.46252479 -4.83237073 -7.54021409  6.22563065  2.65671881]\n",
            " [ 0.26742844  1.00186639 -2.42408801 -1.57702871 -2.9671819  -3.9238474\n",
            "   1.03765841 -0.50414218 -3.84915753  6.27351453 -4.74714035 -4.04357239\n",
            "  -5.84838072  0.14785819 -2.88254656  4.07202513 -0.45582053 -6.85970925\n",
            "  -3.20519508  6.11542545 -3.50033108  0.33748313  1.3025612   2.02249924\n",
            "   1.25721553 -2.17457396 -7.97082285 -0.4242787  -1.30964143 -3.95544286]]\n"
          ]
        }
      ]
    },
    {
      "cell_type": "code",
      "source": [
        "# part 3 - experiment with different hyper parameters\n",
        "#   epochs - 5, 15, 30, 60 (batch size 10, learning 3.0)\n",
        "#   batch - 5, 10, 50, 100 (epochs 30, learning 3.0)\n",
        "#   learning rate - 1.0, 3.0, 5.0 (epochs 30, batch size 10)\n",
        "# EPOCHS\n",
        "\n",
        "net = network.Network([784, 30, 10])\n",
        "net.SGD(training_data, 5, 10, 3.0, test_data=test_data)"
      ],
      "metadata": {
        "id": "KvOyJxZD_on8",
        "colab": {
          "base_uri": "https://localhost:8080/"
        },
        "outputId": "cda64df9-9117-40a5-c629-7622ce20019f"
      },
      "execution_count": 21,
      "outputs": [
        {
          "output_type": "stream",
          "name": "stdout",
          "text": [
            "Epoch 0 : 9136 / 10000\n",
            "Epoch 1 : 9259 / 10000\n",
            "Epoch 2 : 9277 / 10000\n",
            "Epoch 3 : 9302 / 10000\n",
            "Epoch 4 : 9389 / 10000\n"
          ]
        }
      ]
    },
    {
      "cell_type": "code",
      "source": [
        "net = network.Network([784, 30, 10])\n",
        "net.SGD(training_data, 15, 10, 3.0, test_data=test_data)"
      ],
      "metadata": {
        "colab": {
          "base_uri": "https://localhost:8080/"
        },
        "id": "jZ-q1oQZrsH8",
        "outputId": "31538d55-3347-4a5d-a695-b9ee44f837a2"
      },
      "execution_count": 22,
      "outputs": [
        {
          "output_type": "stream",
          "name": "stdout",
          "text": [
            "Epoch 0 : 9048 / 10000\n",
            "Epoch 1 : 9253 / 10000\n",
            "Epoch 2 : 9319 / 10000\n",
            "Epoch 3 : 9265 / 10000\n",
            "Epoch 4 : 9368 / 10000\n",
            "Epoch 5 : 9404 / 10000\n",
            "Epoch 6 : 9445 / 10000\n",
            "Epoch 7 : 9407 / 10000\n",
            "Epoch 8 : 9454 / 10000\n",
            "Epoch 9 : 9448 / 10000\n",
            "Epoch 10 : 9454 / 10000\n",
            "Epoch 11 : 9479 / 10000\n",
            "Epoch 12 : 9460 / 10000\n",
            "Epoch 13 : 9482 / 10000\n",
            "Epoch 14 : 9487 / 10000\n"
          ]
        }
      ]
    },
    {
      "cell_type": "code",
      "source": [
        "net = network.Network([784, 30, 10])\n",
        "net.SGD(training_data, 30, 10, 3.0, test_data=test_data)"
      ],
      "metadata": {
        "colab": {
          "base_uri": "https://localhost:8080/"
        },
        "id": "_VxvnKOJrsyP",
        "outputId": "d3acdc6c-4717-4fc1-c42e-240141de520a"
      },
      "execution_count": 23,
      "outputs": [
        {
          "output_type": "stream",
          "name": "stdout",
          "text": [
            "Epoch 0 : 8192 / 10000\n",
            "Epoch 1 : 9241 / 10000\n",
            "Epoch 2 : 9294 / 10000\n",
            "Epoch 3 : 9267 / 10000\n",
            "Epoch 4 : 9327 / 10000\n",
            "Epoch 5 : 9377 / 10000\n",
            "Epoch 6 : 9424 / 10000\n",
            "Epoch 7 : 9424 / 10000\n",
            "Epoch 8 : 9428 / 10000\n",
            "Epoch 9 : 9434 / 10000\n",
            "Epoch 10 : 9439 / 10000\n",
            "Epoch 11 : 9473 / 10000\n",
            "Epoch 12 : 9455 / 10000\n",
            "Epoch 13 : 9461 / 10000\n",
            "Epoch 14 : 9481 / 10000\n",
            "Epoch 15 : 9469 / 10000\n",
            "Epoch 16 : 9475 / 10000\n",
            "Epoch 17 : 9485 / 10000\n",
            "Epoch 18 : 9485 / 10000\n",
            "Epoch 19 : 9492 / 10000\n",
            "Epoch 20 : 9493 / 10000\n",
            "Epoch 21 : 9477 / 10000\n",
            "Epoch 22 : 9509 / 10000\n",
            "Epoch 23 : 9496 / 10000\n",
            "Epoch 24 : 9512 / 10000\n",
            "Epoch 25 : 9467 / 10000\n",
            "Epoch 26 : 9504 / 10000\n",
            "Epoch 27 : 9499 / 10000\n",
            "Epoch 28 : 9489 / 10000\n",
            "Epoch 29 : 9509 / 10000\n"
          ]
        }
      ]
    },
    {
      "cell_type": "code",
      "source": [
        "net = network.Network([784, 30, 10])\n",
        "net.SGD(training_data, 60, 10, 3.0, test_data=test_data)"
      ],
      "metadata": {
        "colab": {
          "base_uri": "https://localhost:8080/"
        },
        "id": "6CjoeUGvrtvD",
        "outputId": "e193c90b-4943-41a1-ed19-43c27bbf0dc1"
      },
      "execution_count": 24,
      "outputs": [
        {
          "output_type": "stream",
          "name": "stdout",
          "text": [
            "Epoch 0 : 8228 / 10000\n",
            "Epoch 1 : 8309 / 10000\n",
            "Epoch 2 : 8407 / 10000\n",
            "Epoch 3 : 8456 / 10000\n",
            "Epoch 4 : 8465 / 10000\n",
            "Epoch 5 : 8476 / 10000\n",
            "Epoch 6 : 8498 / 10000\n",
            "Epoch 7 : 8515 / 10000\n",
            "Epoch 8 : 8518 / 10000\n",
            "Epoch 9 : 8536 / 10000\n",
            "Epoch 10 : 8567 / 10000\n",
            "Epoch 11 : 8575 / 10000\n",
            "Epoch 12 : 8553 / 10000\n",
            "Epoch 13 : 8534 / 10000\n",
            "Epoch 14 : 8579 / 10000\n",
            "Epoch 15 : 8569 / 10000\n",
            "Epoch 16 : 8566 / 10000\n",
            "Epoch 17 : 8578 / 10000\n",
            "Epoch 18 : 8550 / 10000\n",
            "Epoch 19 : 8593 / 10000\n",
            "Epoch 20 : 8574 / 10000\n",
            "Epoch 21 : 8572 / 10000\n",
            "Epoch 22 : 8554 / 10000\n",
            "Epoch 23 : 8589 / 10000\n",
            "Epoch 24 : 8548 / 10000\n",
            "Epoch 25 : 8573 / 10000\n",
            "Epoch 26 : 8557 / 10000\n",
            "Epoch 27 : 8566 / 10000\n",
            "Epoch 28 : 8585 / 10000\n",
            "Epoch 29 : 8595 / 10000\n",
            "Epoch 30 : 8612 / 10000\n",
            "Epoch 31 : 8678 / 10000\n",
            "Epoch 32 : 9460 / 10000\n",
            "Epoch 33 : 9430 / 10000\n",
            "Epoch 34 : 9423 / 10000\n",
            "Epoch 35 : 9418 / 10000\n",
            "Epoch 36 : 9433 / 10000\n",
            "Epoch 37 : 9424 / 10000\n",
            "Epoch 38 : 9444 / 10000\n",
            "Epoch 39 : 9443 / 10000\n",
            "Epoch 40 : 9412 / 10000\n",
            "Epoch 41 : 9464 / 10000\n",
            "Epoch 42 : 9430 / 10000\n",
            "Epoch 43 : 9447 / 10000\n",
            "Epoch 44 : 9455 / 10000\n",
            "Epoch 45 : 9460 / 10000\n",
            "Epoch 46 : 9480 / 10000\n",
            "Epoch 47 : 9448 / 10000\n",
            "Epoch 48 : 9459 / 10000\n",
            "Epoch 49 : 9456 / 10000\n",
            "Epoch 50 : 9459 / 10000\n",
            "Epoch 51 : 9466 / 10000\n",
            "Epoch 52 : 9474 / 10000\n",
            "Epoch 53 : 9477 / 10000\n",
            "Epoch 54 : 9477 / 10000\n",
            "Epoch 55 : 9453 / 10000\n",
            "Epoch 56 : 9485 / 10000\n",
            "Epoch 57 : 9472 / 10000\n",
            "Epoch 58 : 9459 / 10000\n",
            "Epoch 59 : 9455 / 10000\n"
          ]
        }
      ]
    },
    {
      "cell_type": "code",
      "source": [
        "# BATCH SIZE\n",
        "\n",
        "net = network.Network([784, 30, 10])\n",
        "net.SGD(training_data, 30, 5, 3.0, test_data=test_data)"
      ],
      "metadata": {
        "colab": {
          "base_uri": "https://localhost:8080/"
        },
        "id": "J9D1HgskruS2",
        "outputId": "81ee8652-565d-44d5-c170-6eeec9c2ff33"
      },
      "execution_count": 25,
      "outputs": [
        {
          "output_type": "stream",
          "name": "stdout",
          "text": [
            "Epoch 0 : 8240 / 10000\n",
            "Epoch 1 : 8344 / 10000\n",
            "Epoch 2 : 8447 / 10000\n",
            "Epoch 3 : 8536 / 10000\n",
            "Epoch 4 : 8532 / 10000\n",
            "Epoch 5 : 8534 / 10000\n",
            "Epoch 6 : 8540 / 10000\n",
            "Epoch 7 : 8557 / 10000\n",
            "Epoch 8 : 8552 / 10000\n",
            "Epoch 9 : 9437 / 10000\n",
            "Epoch 10 : 9447 / 10000\n",
            "Epoch 11 : 9431 / 10000\n",
            "Epoch 12 : 9458 / 10000\n",
            "Epoch 13 : 9461 / 10000\n",
            "Epoch 14 : 9486 / 10000\n",
            "Epoch 15 : 9478 / 10000\n",
            "Epoch 16 : 9476 / 10000\n",
            "Epoch 17 : 9512 / 10000\n",
            "Epoch 18 : 9498 / 10000\n",
            "Epoch 19 : 9475 / 10000\n",
            "Epoch 20 : 9493 / 10000\n",
            "Epoch 21 : 9462 / 10000\n",
            "Epoch 22 : 9505 / 10000\n",
            "Epoch 23 : 9486 / 10000\n",
            "Epoch 24 : 9511 / 10000\n",
            "Epoch 25 : 9486 / 10000\n",
            "Epoch 26 : 9516 / 10000\n",
            "Epoch 27 : 9513 / 10000\n",
            "Epoch 28 : 9514 / 10000\n",
            "Epoch 29 : 9507 / 10000\n"
          ]
        }
      ]
    },
    {
      "cell_type": "code",
      "source": [
        "net = network.Network([784, 30, 10])\n",
        "net.SGD(training_data, 30, 10, 3.0, test_data=test_data)"
      ],
      "metadata": {
        "colab": {
          "base_uri": "https://localhost:8080/"
        },
        "id": "OEIyhBNVr-MI",
        "outputId": "903dcaf2-318d-4ad4-9dce-77b42c3720c9"
      },
      "execution_count": 26,
      "outputs": [
        {
          "output_type": "stream",
          "name": "stdout",
          "text": [
            "Epoch 0 : 9083 / 10000\n",
            "Epoch 1 : 9263 / 10000\n",
            "Epoch 2 : 9314 / 10000\n",
            "Epoch 3 : 9401 / 10000\n",
            "Epoch 4 : 9401 / 10000\n",
            "Epoch 5 : 9415 / 10000\n",
            "Epoch 6 : 9466 / 10000\n",
            "Epoch 7 : 9488 / 10000\n",
            "Epoch 8 : 9480 / 10000\n",
            "Epoch 9 : 9481 / 10000\n",
            "Epoch 10 : 9482 / 10000\n",
            "Epoch 11 : 9481 / 10000\n",
            "Epoch 12 : 9504 / 10000\n",
            "Epoch 13 : 9495 / 10000\n",
            "Epoch 14 : 9518 / 10000\n",
            "Epoch 15 : 9522 / 10000\n",
            "Epoch 16 : 9490 / 10000\n",
            "Epoch 17 : 9520 / 10000\n",
            "Epoch 18 : 9559 / 10000\n",
            "Epoch 19 : 9552 / 10000\n",
            "Epoch 20 : 9550 / 10000\n",
            "Epoch 21 : 9532 / 10000\n",
            "Epoch 22 : 9517 / 10000\n",
            "Epoch 23 : 9537 / 10000\n",
            "Epoch 24 : 9539 / 10000\n",
            "Epoch 25 : 9530 / 10000\n",
            "Epoch 26 : 9527 / 10000\n",
            "Epoch 27 : 9536 / 10000\n",
            "Epoch 28 : 9550 / 10000\n",
            "Epoch 29 : 9531 / 10000\n"
          ]
        }
      ]
    },
    {
      "cell_type": "code",
      "source": [
        "net = network.Network([784, 30, 10])\n",
        "net.SGD(training_data, 30, 50, 3.0, test_data=test_data)"
      ],
      "metadata": {
        "colab": {
          "base_uri": "https://localhost:8080/"
        },
        "id": "moUL53uNr-9L",
        "outputId": "4200b1f3-308f-4c18-b21b-0c43a0b92af5"
      },
      "execution_count": 27,
      "outputs": [
        {
          "output_type": "stream",
          "name": "stdout",
          "text": [
            "Epoch 0 : 7590 / 10000\n",
            "Epoch 1 : 8876 / 10000\n",
            "Epoch 2 : 9033 / 10000\n",
            "Epoch 3 : 9123 / 10000\n",
            "Epoch 4 : 9180 / 10000\n",
            "Epoch 5 : 9226 / 10000\n",
            "Epoch 6 : 9256 / 10000\n",
            "Epoch 7 : 9277 / 10000\n",
            "Epoch 8 : 9286 / 10000\n",
            "Epoch 9 : 9296 / 10000\n",
            "Epoch 10 : 9319 / 10000\n",
            "Epoch 11 : 9347 / 10000\n",
            "Epoch 12 : 9339 / 10000\n",
            "Epoch 13 : 9360 / 10000\n",
            "Epoch 14 : 9380 / 10000\n",
            "Epoch 15 : 9389 / 10000\n",
            "Epoch 16 : 9401 / 10000\n",
            "Epoch 17 : 9386 / 10000\n",
            "Epoch 18 : 9405 / 10000\n",
            "Epoch 19 : 9410 / 10000\n",
            "Epoch 20 : 9414 / 10000\n",
            "Epoch 21 : 9413 / 10000\n",
            "Epoch 22 : 9419 / 10000\n",
            "Epoch 23 : 9413 / 10000\n",
            "Epoch 24 : 9426 / 10000\n",
            "Epoch 25 : 9411 / 10000\n",
            "Epoch 26 : 9437 / 10000\n",
            "Epoch 27 : 9424 / 10000\n",
            "Epoch 28 : 9410 / 10000\n",
            "Epoch 29 : 9423 / 10000\n"
          ]
        }
      ]
    },
    {
      "cell_type": "code",
      "source": [
        "net = network.Network([784, 30, 10])\n",
        "net.SGD(training_data, 30, 100, 3.0, test_data=test_data)"
      ],
      "metadata": {
        "colab": {
          "base_uri": "https://localhost:8080/"
        },
        "id": "DPdKBLQCsAWb",
        "outputId": "1fefdb38-4676-4882-b3f5-076ae7e7c1c1"
      },
      "execution_count": 28,
      "outputs": [
        {
          "output_type": "stream",
          "name": "stdout",
          "text": [
            "Epoch 0 : 6033 / 10000\n",
            "Epoch 1 : 7542 / 10000\n",
            "Epoch 2 : 7843 / 10000\n",
            "Epoch 3 : 8015 / 10000\n",
            "Epoch 4 : 8066 / 10000\n",
            "Epoch 5 : 8126 / 10000\n",
            "Epoch 6 : 8162 / 10000\n",
            "Epoch 7 : 8197 / 10000\n",
            "Epoch 8 : 8221 / 10000\n",
            "Epoch 9 : 8238 / 10000\n",
            "Epoch 10 : 8280 / 10000\n",
            "Epoch 11 : 8290 / 10000\n",
            "Epoch 12 : 8307 / 10000\n",
            "Epoch 13 : 8303 / 10000\n",
            "Epoch 14 : 8329 / 10000\n",
            "Epoch 15 : 8325 / 10000\n",
            "Epoch 16 : 8345 / 10000\n",
            "Epoch 17 : 8329 / 10000\n",
            "Epoch 18 : 8351 / 10000\n",
            "Epoch 19 : 8366 / 10000\n",
            "Epoch 20 : 8368 / 10000\n",
            "Epoch 21 : 8373 / 10000\n",
            "Epoch 22 : 8377 / 10000\n",
            "Epoch 23 : 8366 / 10000\n",
            "Epoch 24 : 8384 / 10000\n",
            "Epoch 25 : 8383 / 10000\n",
            "Epoch 26 : 8379 / 10000\n",
            "Epoch 27 : 8398 / 10000\n",
            "Epoch 28 : 8391 / 10000\n",
            "Epoch 29 : 8397 / 10000\n"
          ]
        }
      ]
    },
    {
      "cell_type": "code",
      "source": [
        "# LEARNING RATE\n",
        "\n",
        "net = network.Network([784, 30, 10])\n",
        "net.SGD(training_data, 30, 10, 1.0, test_data=test_data)"
      ],
      "metadata": {
        "colab": {
          "base_uri": "https://localhost:8080/"
        },
        "id": "ZeQ83ojnsDjK",
        "outputId": "8714309b-9788-4db9-9750-18d25bdfe8e1"
      },
      "execution_count": 29,
      "outputs": [
        {
          "output_type": "stream",
          "name": "stdout",
          "text": [
            "Epoch 0 : 7337 / 10000\n",
            "Epoch 1 : 7484 / 10000\n",
            "Epoch 2 : 7531 / 10000\n",
            "Epoch 3 : 7581 / 10000\n",
            "Epoch 4 : 8401 / 10000\n",
            "Epoch 5 : 8425 / 10000\n",
            "Epoch 6 : 8463 / 10000\n",
            "Epoch 7 : 8506 / 10000\n",
            "Epoch 8 : 8498 / 10000\n",
            "Epoch 9 : 8513 / 10000\n",
            "Epoch 10 : 8528 / 10000\n",
            "Epoch 11 : 8522 / 10000\n",
            "Epoch 12 : 8550 / 10000\n",
            "Epoch 13 : 8555 / 10000\n",
            "Epoch 14 : 8549 / 10000\n",
            "Epoch 15 : 8541 / 10000\n",
            "Epoch 16 : 8559 / 10000\n",
            "Epoch 17 : 9411 / 10000\n",
            "Epoch 18 : 9399 / 10000\n",
            "Epoch 19 : 9410 / 10000\n",
            "Epoch 20 : 9439 / 10000\n",
            "Epoch 21 : 9438 / 10000\n",
            "Epoch 22 : 9449 / 10000\n",
            "Epoch 23 : 9449 / 10000\n",
            "Epoch 24 : 9453 / 10000\n",
            "Epoch 25 : 9452 / 10000\n",
            "Epoch 26 : 9462 / 10000\n",
            "Epoch 27 : 9464 / 10000\n",
            "Epoch 28 : 9463 / 10000\n",
            "Epoch 29 : 9476 / 10000\n"
          ]
        }
      ]
    },
    {
      "cell_type": "code",
      "source": [
        "net = network.Network([784, 30, 10])\n",
        "net.SGD(training_data, 30, 10, 3.0, test_data=test_data)"
      ],
      "metadata": {
        "colab": {
          "base_uri": "https://localhost:8080/"
        },
        "id": "XSXd16UrsGQm",
        "outputId": "b2746a63-a1f9-47da-ca02-da9e512ab9e9"
      },
      "execution_count": 30,
      "outputs": [
        {
          "output_type": "stream",
          "name": "stdout",
          "text": [
            "Epoch 0 : 8217 / 10000\n",
            "Epoch 1 : 8313 / 10000\n",
            "Epoch 2 : 8342 / 10000\n",
            "Epoch 3 : 8400 / 10000\n",
            "Epoch 4 : 8426 / 10000\n",
            "Epoch 5 : 8418 / 10000\n",
            "Epoch 6 : 9333 / 10000\n",
            "Epoch 7 : 9379 / 10000\n",
            "Epoch 8 : 9296 / 10000\n",
            "Epoch 9 : 9390 / 10000\n",
            "Epoch 10 : 9386 / 10000\n",
            "Epoch 11 : 9421 / 10000\n",
            "Epoch 12 : 9415 / 10000\n",
            "Epoch 13 : 9394 / 10000\n",
            "Epoch 14 : 9434 / 10000\n",
            "Epoch 15 : 9441 / 10000\n",
            "Epoch 16 : 9444 / 10000\n",
            "Epoch 17 : 9451 / 10000\n",
            "Epoch 18 : 9486 / 10000\n",
            "Epoch 19 : 9479 / 10000\n",
            "Epoch 20 : 9472 / 10000\n",
            "Epoch 21 : 9486 / 10000\n",
            "Epoch 22 : 9466 / 10000\n",
            "Epoch 23 : 9478 / 10000\n",
            "Epoch 24 : 9456 / 10000\n",
            "Epoch 25 : 9456 / 10000\n",
            "Epoch 26 : 9448 / 10000\n",
            "Epoch 27 : 9461 / 10000\n",
            "Epoch 28 : 9470 / 10000\n",
            "Epoch 29 : 9461 / 10000\n"
          ]
        }
      ]
    },
    {
      "cell_type": "code",
      "source": [
        "net = network.Network([784, 30, 10])\n",
        "net.SGD(training_data, 30, 10, 5.0, test_data=test_data)"
      ],
      "metadata": {
        "colab": {
          "base_uri": "https://localhost:8080/"
        },
        "id": "w0thX-DgsGwF",
        "outputId": "bba0ef56-e60d-4dc9-8441-cb0dd0a7f21e"
      },
      "execution_count": 31,
      "outputs": [
        {
          "output_type": "stream",
          "name": "stdout",
          "text": [
            "Epoch 0 : 9153 / 10000\n",
            "Epoch 1 : 9254 / 10000\n",
            "Epoch 2 : 9303 / 10000\n",
            "Epoch 3 : 9369 / 10000\n",
            "Epoch 4 : 9362 / 10000\n",
            "Epoch 5 : 9413 / 10000\n",
            "Epoch 6 : 9428 / 10000\n",
            "Epoch 7 : 9390 / 10000\n",
            "Epoch 8 : 9400 / 10000\n",
            "Epoch 9 : 9446 / 10000\n",
            "Epoch 10 : 9435 / 10000\n",
            "Epoch 11 : 9472 / 10000\n",
            "Epoch 12 : 9486 / 10000\n",
            "Epoch 13 : 9491 / 10000\n",
            "Epoch 14 : 9527 / 10000\n",
            "Epoch 15 : 9492 / 10000\n",
            "Epoch 16 : 9501 / 10000\n",
            "Epoch 17 : 9504 / 10000\n",
            "Epoch 18 : 9461 / 10000\n",
            "Epoch 19 : 9494 / 10000\n",
            "Epoch 20 : 9521 / 10000\n",
            "Epoch 21 : 9492 / 10000\n",
            "Epoch 22 : 9508 / 10000\n",
            "Epoch 23 : 9500 / 10000\n",
            "Epoch 24 : 9464 / 10000\n",
            "Epoch 25 : 9491 / 10000\n",
            "Epoch 26 : 9509 / 10000\n",
            "Epoch 27 : 9506 / 10000\n",
            "Epoch 28 : 9483 / 10000\n",
            "Epoch 29 : 9506 / 10000\n"
          ]
        }
      ]
    }
  ]
}